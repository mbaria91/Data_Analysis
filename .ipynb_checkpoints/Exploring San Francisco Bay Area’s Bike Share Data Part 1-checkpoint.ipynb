{
 "cells": [
  {
   "cell_type": "markdown",
   "metadata": {},
   "source": [
    "# Part I - Exploring San Francisco Bay Area’s Bike Share Data\n",
    "## by George Mbaria\n",
    "\n",
    "## Introduction\n",
    "> This document analyses information about individual rides made in a bike-sharing system covering the greater San Francisco Bay area.\n",
    "\n",
    "\n",
    "\n",
    "\n",
    "\n",
    "## Preliminary Wrangling\n",
    "\n",
    "> For me to be able to give a good visualisation, I will perform alittle data wrangling in the dataset. Let's first begin by loading in the dataset.\n"
   ]
  },
  {
   "cell_type": "code",
   "execution_count": 1,
   "metadata": {},
   "outputs": [],
   "source": [
    "# at the top of the file, before other imports\n",
    "import warnings\n",
    "\n",
    "warnings.filterwarnings('ignore')\n",
    "\n",
    "# no warnings will be printed from now on."
   ]
  },
  {
   "cell_type": "code",
   "execution_count": 2,
   "metadata": {},
   "outputs": [],
   "source": [
    "# import all packages and set plots to be embedded inline\n",
    "import pandas as pd\n",
    "import matplotlib.pyplot as plt\n",
    "import seaborn as sb\n",
    "import numpy as np\n",
    "\n",
    "%matplotlib inline"
   ]
  },
  {
   "cell_type": "markdown",
   "metadata": {},
   "source": [
    "> Load in your dataset and describe its properties through the questions below. Try and motivate your exploration goals through this section.\n"
   ]
  },
  {
   "cell_type": "code",
   "execution_count": 3,
   "metadata": {},
   "outputs": [],
   "source": [
    "# load in the dataset into a pandas dataframe, print statistics\n",
    "fordgobike = pd.read_csv('201902-fordgobike-tripdata.csv')\n"
   ]
  },
  {
   "cell_type": "code",
   "execution_count": 4,
   "metadata": {},
   "outputs": [
    {
     "name": "stdout",
     "output_type": "stream",
     "text": [
      "(183412, 16)\n",
      "duration_sec                 int64\n",
      "start_time                  object\n",
      "end_time                    object\n",
      "start_station_id           float64\n",
      "start_station_name          object\n",
      "start_station_latitude     float64\n",
      "start_station_longitude    float64\n",
      "end_station_id             float64\n",
      "end_station_name            object\n",
      "end_station_latitude       float64\n",
      "end_station_longitude      float64\n",
      "bike_id                      int64\n",
      "user_type                   object\n",
      "member_birth_year          float64\n",
      "member_gender               object\n",
      "bike_share_for_all_trip     object\n",
      "dtype: object\n",
      "   duration_sec                start_time                  end_time  \\\n",
      "0         52185  2019-02-28 17:32:10.1450  2019-03-01 08:01:55.9750   \n",
      "1         42521  2019-02-28 18:53:21.7890  2019-03-01 06:42:03.0560   \n",
      "2         61854  2019-02-28 12:13:13.2180  2019-03-01 05:24:08.1460   \n",
      "3         36490  2019-02-28 17:54:26.0100  2019-03-01 04:02:36.8420   \n",
      "4          1585  2019-02-28 23:54:18.5490  2019-03-01 00:20:44.0740   \n",
      "\n",
      "   start_station_id                                start_station_name  \\\n",
      "0              21.0  Montgomery St BART Station (Market St at 2nd St)   \n",
      "1              23.0                     The Embarcadero at Steuart St   \n",
      "2              86.0                           Market St at Dolores St   \n",
      "3             375.0                           Grove St at Masonic Ave   \n",
      "4               7.0                               Frank H Ogawa Plaza   \n",
      "\n",
      "   start_station_latitude  start_station_longitude  end_station_id  \\\n",
      "0               37.789625              -122.400811            13.0   \n",
      "1               37.791464              -122.391034            81.0   \n",
      "2               37.769305              -122.426826             3.0   \n",
      "3               37.774836              -122.446546            70.0   \n",
      "4               37.804562              -122.271738           222.0   \n",
      "\n",
      "                               end_station_name  end_station_latitude  \\\n",
      "0                Commercial St at Montgomery St             37.794231   \n",
      "1                            Berry St at 4th St             37.775880   \n",
      "2  Powell St BART Station (Market St at 4th St)             37.786375   \n",
      "3                        Central Ave at Fell St             37.773311   \n",
      "4                         10th Ave at E 15th St             37.792714   \n",
      "\n",
      "   end_station_longitude  bike_id   user_type  member_birth_year  \\\n",
      "0            -122.402923     4902    Customer             1984.0   \n",
      "1            -122.393170     2535    Customer                NaN   \n",
      "2            -122.404904     5905    Customer             1972.0   \n",
      "3            -122.444293     6638  Subscriber             1989.0   \n",
      "4            -122.248780     4898  Subscriber             1974.0   \n",
      "\n",
      "  member_gender bike_share_for_all_trip  \n",
      "0          Male                      No  \n",
      "1           NaN                      No  \n",
      "2          Male                      No  \n",
      "3         Other                      No  \n",
      "4          Male                     Yes  \n"
     ]
    }
   ],
   "source": [
    "# Lets first commence by inspecting our data\n",
    "print(fordgobike.shape)\n",
    "print(fordgobike.dtypes)\n",
    "print(fordgobike.head(5))"
   ]
  },
  {
   "cell_type": "code",
   "execution_count": 5,
   "metadata": {
    "scrolled": true
   },
   "outputs": [
    {
     "data": {
      "text/plain": [
       "San Francisco Caltrain Station 2  (Townsend St at 4th St)          4857\n",
       "Market St at 10th St                                               3973\n",
       "Montgomery St BART Station (Market St at 2nd St)                   3647\n",
       "San Francisco Ferry Building (Harry Bridges Plaza)                 3368\n",
       "Powell St BART Station (Market St at 4th St)                       2997\n",
       "San Francisco Caltrain (Townsend St at 4th St)                     2947\n",
       "Berry St at 4th St                                                 2872\n",
       "The Embarcadero at Sansome St                                      2512\n",
       "Powell St BART Station (Market St at 5th St)                       2353\n",
       "Steuart St at Market St                                            2338\n",
       "Howard St at Beale St                                              2034\n",
       "Civic Center/UN Plaza BART Station (Market St at McAllister St)    1865\n",
       "Bancroft Way at Telegraph Ave                                      1814\n",
       "Beale St at Harrison St                                            1812\n",
       "2nd St at Townsend St                                              1741\n",
       "3rd St at Townsend St                                              1700\n",
       "Embarcadero BART Station (Beale St at Market St)                   1699\n",
       "4th St at Mission Bay Blvd S                                       1626\n",
       "Townsend St at 7th St                                              1540\n",
       "The Embarcadero at Steuart St                                      1447\n",
       "19th Street BART Station                                           1430\n",
       "Post St at Kearny St                                               1422\n",
       "Downtown Berkeley BART                                             1380\n",
       "Rhode Island St at 17th St                                         1345\n",
       "8th St at Brannan St                                               1331\n",
       "Folsom St at 3rd St                                                1302\n",
       "Howard St at 8th St                                                1284\n",
       "Esprit Park                                                        1266\n",
       "4th St at 16th St                                                  1208\n",
       "Spear St at Folsom St                                              1164\n",
       "                                                                   ... \n",
       "San Carlos St at Market St                                           52\n",
       "Williams Ave at 3rd St                                               51\n",
       "27th St at MLK Jr Way                                                49\n",
       "Market St at 40th St                                                 49\n",
       "Empire St at 1st St                                                  47\n",
       "Lane St at Revere Ave                                                46\n",
       "Locust St at Grant St                                                45\n",
       "SAP Center                                                           42\n",
       "Almaden Blvd at Balbach St                                           38\n",
       "Bestor Art Park                                                      38\n",
       "10th Ave at E 15th St                                                37\n",
       "George St at 1st St                                                  34\n",
       "San Pedro St at Hedding St                                           30\n",
       "Empire St at 7th St                                                  28\n",
       "Oak St at 1st St                                                     28\n",
       "Mission St at 1st St                                                 25\n",
       "Backesto Park (Jackson St at 13th St)                                21\n",
       "Williams Ave at Apollo St                                            20\n",
       "Farnam St at Fruitvale Ave                                           20\n",
       "Foothill Blvd at 42nd Ave                                            20\n",
       "23rd Ave at Foothill Blvd                                            20\n",
       "26th Ave at International Blvd                                       19\n",
       "Foothill Blvd at Harrington Ave                                      16\n",
       "Leavenworth St at Broadway                                           12\n",
       "Taylor St at 9th St                                                  11\n",
       "Parker Ave at McAllister St                                           9\n",
       "Palm St at Willow St                                                  7\n",
       "16th St Depot                                                         6\n",
       "21st Ave at International Blvd                                        6\n",
       "Willow St at Vine St                                                  5\n",
       "Name: end_station_name, Length: 329, dtype: int64"
      ]
     },
     "execution_count": 5,
     "metadata": {},
     "output_type": "execute_result"
    }
   ],
   "source": [
    "# Lets check the value_counts for the end_stations.\n",
    "fordgobike.end_station_name.value_counts()"
   ]
  },
  {
   "cell_type": "code",
   "execution_count": null,
   "metadata": {},
   "outputs": [],
   "source": []
  },
  {
   "cell_type": "markdown",
   "metadata": {},
   "source": [
    "### What is the structure of your dataset?\n",
    "\n",
    "> There are 183412 rows with 16 columns in the dataset.  There are 9 variables that are numeric in nature and 7 that are categorical. Besides the start_time and end_time being categorized as strings instead the datetime dtypes, all the other categorical variables (start_station_name, end_station_name, member_gender, and bike_share_for_all_trips) are nominal variables.\n",
    "\n",
    "### What is/are the main feature(s) of interest in your dataset?\n",
    "\n",
    "> 1.\tI’m most interested in figuring out when are most trips taken in terms of the day of the week.\n",
    "2.\tI’m also interested in figuring out how long does the average trip take.\n",
    "3.\tFinally, I’m also interested in figuring out if the above depend on if a user is a subscriber or customer and also based on the gender.\n",
    "\n",
    "\n",
    "### What features in the dataset do you think will help support your investigation into your feature(s) of interest?\n",
    "\n",
    "> I expect that the duration in which trips are made will play a big part in this analysis. Time, day and month will also have a very strong effect on each trip made: Each trip is made in a particular day of the month. I also think that the user_type, member_gender, start_weekday and the member_birth_year will have effects on the duration of the bikeshare. "
   ]
  },
  {
   "cell_type": "markdown",
   "metadata": {},
   "source": [
    "## Data Wrangling"
   ]
  },
  {
   "cell_type": "markdown",
   "metadata": {},
   "source": [
    "Let’s begin by doing a little modification to the dataset since it contains some flaws. By doing this our dataset will be set and ready to commence visualization."
   ]
  },
  {
   "cell_type": "code",
   "execution_count": 6,
   "metadata": {},
   "outputs": [
    {
     "data": {
      "text/html": [
       "<div>\n",
       "<style scoped>\n",
       "    .dataframe tbody tr th:only-of-type {\n",
       "        vertical-align: middle;\n",
       "    }\n",
       "\n",
       "    .dataframe tbody tr th {\n",
       "        vertical-align: top;\n",
       "    }\n",
       "\n",
       "    .dataframe thead th {\n",
       "        text-align: right;\n",
       "    }\n",
       "</style>\n",
       "<table border=\"1\" class=\"dataframe\">\n",
       "  <thead>\n",
       "    <tr style=\"text-align: right;\">\n",
       "      <th></th>\n",
       "      <th>duration_sec</th>\n",
       "      <th>start_time</th>\n",
       "      <th>end_time</th>\n",
       "      <th>start_station_id</th>\n",
       "      <th>start_station_name</th>\n",
       "      <th>start_station_latitude</th>\n",
       "      <th>start_station_longitude</th>\n",
       "      <th>end_station_id</th>\n",
       "      <th>end_station_name</th>\n",
       "      <th>end_station_latitude</th>\n",
       "      <th>end_station_longitude</th>\n",
       "      <th>bike_id</th>\n",
       "      <th>user_type</th>\n",
       "      <th>member_birth_year</th>\n",
       "      <th>member_gender</th>\n",
       "      <th>bike_share_for_all_trip</th>\n",
       "    </tr>\n",
       "  </thead>\n",
       "  <tbody>\n",
       "    <tr>\n",
       "      <th>0</th>\n",
       "      <td>52185</td>\n",
       "      <td>2019-02-28 17:32:10.1450</td>\n",
       "      <td>2019-03-01 08:01:55.9750</td>\n",
       "      <td>21.0</td>\n",
       "      <td>Montgomery St BART Station (Market St at 2nd St)</td>\n",
       "      <td>37.789625</td>\n",
       "      <td>-122.400811</td>\n",
       "      <td>13.0</td>\n",
       "      <td>Commercial St at Montgomery St</td>\n",
       "      <td>37.794231</td>\n",
       "      <td>-122.402923</td>\n",
       "      <td>4902</td>\n",
       "      <td>Customer</td>\n",
       "      <td>1984.0</td>\n",
       "      <td>Male</td>\n",
       "      <td>No</td>\n",
       "    </tr>\n",
       "    <tr>\n",
       "      <th>1</th>\n",
       "      <td>42521</td>\n",
       "      <td>2019-02-28 18:53:21.7890</td>\n",
       "      <td>2019-03-01 06:42:03.0560</td>\n",
       "      <td>23.0</td>\n",
       "      <td>The Embarcadero at Steuart St</td>\n",
       "      <td>37.791464</td>\n",
       "      <td>-122.391034</td>\n",
       "      <td>81.0</td>\n",
       "      <td>Berry St at 4th St</td>\n",
       "      <td>37.775880</td>\n",
       "      <td>-122.393170</td>\n",
       "      <td>2535</td>\n",
       "      <td>Customer</td>\n",
       "      <td>NaN</td>\n",
       "      <td>NaN</td>\n",
       "      <td>No</td>\n",
       "    </tr>\n",
       "    <tr>\n",
       "      <th>2</th>\n",
       "      <td>61854</td>\n",
       "      <td>2019-02-28 12:13:13.2180</td>\n",
       "      <td>2019-03-01 05:24:08.1460</td>\n",
       "      <td>86.0</td>\n",
       "      <td>Market St at Dolores St</td>\n",
       "      <td>37.769305</td>\n",
       "      <td>-122.426826</td>\n",
       "      <td>3.0</td>\n",
       "      <td>Powell St BART Station (Market St at 4th St)</td>\n",
       "      <td>37.786375</td>\n",
       "      <td>-122.404904</td>\n",
       "      <td>5905</td>\n",
       "      <td>Customer</td>\n",
       "      <td>1972.0</td>\n",
       "      <td>Male</td>\n",
       "      <td>No</td>\n",
       "    </tr>\n",
       "    <tr>\n",
       "      <th>3</th>\n",
       "      <td>36490</td>\n",
       "      <td>2019-02-28 17:54:26.0100</td>\n",
       "      <td>2019-03-01 04:02:36.8420</td>\n",
       "      <td>375.0</td>\n",
       "      <td>Grove St at Masonic Ave</td>\n",
       "      <td>37.774836</td>\n",
       "      <td>-122.446546</td>\n",
       "      <td>70.0</td>\n",
       "      <td>Central Ave at Fell St</td>\n",
       "      <td>37.773311</td>\n",
       "      <td>-122.444293</td>\n",
       "      <td>6638</td>\n",
       "      <td>Subscriber</td>\n",
       "      <td>1989.0</td>\n",
       "      <td>Other</td>\n",
       "      <td>No</td>\n",
       "    </tr>\n",
       "    <tr>\n",
       "      <th>4</th>\n",
       "      <td>1585</td>\n",
       "      <td>2019-02-28 23:54:18.5490</td>\n",
       "      <td>2019-03-01 00:20:44.0740</td>\n",
       "      <td>7.0</td>\n",
       "      <td>Frank H Ogawa Plaza</td>\n",
       "      <td>37.804562</td>\n",
       "      <td>-122.271738</td>\n",
       "      <td>222.0</td>\n",
       "      <td>10th Ave at E 15th St</td>\n",
       "      <td>37.792714</td>\n",
       "      <td>-122.248780</td>\n",
       "      <td>4898</td>\n",
       "      <td>Subscriber</td>\n",
       "      <td>1974.0</td>\n",
       "      <td>Male</td>\n",
       "      <td>Yes</td>\n",
       "    </tr>\n",
       "  </tbody>\n",
       "</table>\n",
       "</div>"
      ],
      "text/plain": [
       "   duration_sec                start_time                  end_time  \\\n",
       "0         52185  2019-02-28 17:32:10.1450  2019-03-01 08:01:55.9750   \n",
       "1         42521  2019-02-28 18:53:21.7890  2019-03-01 06:42:03.0560   \n",
       "2         61854  2019-02-28 12:13:13.2180  2019-03-01 05:24:08.1460   \n",
       "3         36490  2019-02-28 17:54:26.0100  2019-03-01 04:02:36.8420   \n",
       "4          1585  2019-02-28 23:54:18.5490  2019-03-01 00:20:44.0740   \n",
       "\n",
       "   start_station_id                                start_station_name  \\\n",
       "0              21.0  Montgomery St BART Station (Market St at 2nd St)   \n",
       "1              23.0                     The Embarcadero at Steuart St   \n",
       "2              86.0                           Market St at Dolores St   \n",
       "3             375.0                           Grove St at Masonic Ave   \n",
       "4               7.0                               Frank H Ogawa Plaza   \n",
       "\n",
       "   start_station_latitude  start_station_longitude  end_station_id  \\\n",
       "0               37.789625              -122.400811            13.0   \n",
       "1               37.791464              -122.391034            81.0   \n",
       "2               37.769305              -122.426826             3.0   \n",
       "3               37.774836              -122.446546            70.0   \n",
       "4               37.804562              -122.271738           222.0   \n",
       "\n",
       "                               end_station_name  end_station_latitude  \\\n",
       "0                Commercial St at Montgomery St             37.794231   \n",
       "1                            Berry St at 4th St             37.775880   \n",
       "2  Powell St BART Station (Market St at 4th St)             37.786375   \n",
       "3                        Central Ave at Fell St             37.773311   \n",
       "4                         10th Ave at E 15th St             37.792714   \n",
       "\n",
       "   end_station_longitude  bike_id   user_type  member_birth_year  \\\n",
       "0            -122.402923     4902    Customer             1984.0   \n",
       "1            -122.393170     2535    Customer                NaN   \n",
       "2            -122.404904     5905    Customer             1972.0   \n",
       "3            -122.444293     6638  Subscriber             1989.0   \n",
       "4            -122.248780     4898  Subscriber             1974.0   \n",
       "\n",
       "  member_gender bike_share_for_all_trip  \n",
       "0          Male                      No  \n",
       "1           NaN                      No  \n",
       "2          Male                      No  \n",
       "3         Other                      No  \n",
       "4          Male                     Yes  "
      ]
     },
     "execution_count": 6,
     "metadata": {},
     "output_type": "execute_result"
    }
   ],
   "source": [
    "# Let's start by making a copy of the original dataset for us to retain the original version.\n",
    "\n",
    "bike_df = fordgobike.copy()\n",
    "bike_df.head()"
   ]
  },
  {
   "cell_type": "code",
   "execution_count": 7,
   "metadata": {},
   "outputs": [
    {
     "data": {
      "text/plain": [
       "duration_sec                 int64\n",
       "start_time                  object\n",
       "end_time                    object\n",
       "start_station_id           float64\n",
       "start_station_name          object\n",
       "start_station_latitude     float64\n",
       "start_station_longitude    float64\n",
       "end_station_id             float64\n",
       "end_station_name            object\n",
       "end_station_latitude       float64\n",
       "end_station_longitude      float64\n",
       "bike_id                      int64\n",
       "user_type                   object\n",
       "member_birth_year          float64\n",
       "member_gender               object\n",
       "bike_share_for_all_trip     object\n",
       "dtype: object"
      ]
     },
     "execution_count": 7,
     "metadata": {},
     "output_type": "execute_result"
    }
   ],
   "source": [
    "# Let's check the dtypes in the dataframe.\n",
    "bike_df.dtypes"
   ]
  },
  {
   "cell_type": "code",
   "execution_count": 8,
   "metadata": {},
   "outputs": [],
   "source": [
    "#Since we will not be using the bike_share_for_all_trip, lets drop the collumn using the drop function.\n",
    "bike_df = bike_df.drop(labels = ['bike_share_for_all_trip'], axis = 1)"
   ]
  },
  {
   "cell_type": "markdown",
   "metadata": {},
   "source": [
    "### Test"
   ]
  },
  {
   "cell_type": "code",
   "execution_count": 9,
   "metadata": {},
   "outputs": [
    {
     "data": {
      "text/plain": [
       "(183412, 15)"
      ]
     },
     "execution_count": 9,
     "metadata": {},
     "output_type": "execute_result"
    }
   ],
   "source": [
    "bike_df.shape"
   ]
  },
  {
   "cell_type": "markdown",
   "metadata": {},
   "source": [
    "I've already noticed a few things about the data from a quick look at the csv. \n",
    "First, the station data is repeated, there's a station ID, name, latitude, and longitude in every entry. \n",
    "Second, I noticed that I'm going to need the time/date stamp split up into date, time, and day of the week. While I could keep running the functions everytime I need them, it would be easier if they were by themselves."
   ]
  },
  {
   "cell_type": "code",
   "execution_count": 10,
   "metadata": {},
   "outputs": [
    {
     "name": "stdout",
     "output_type": "stream",
     "text": [
      "<class 'pandas.core.frame.DataFrame'>\n",
      "RangeIndex: 183412 entries, 0 to 183411\n",
      "Data columns (total 15 columns):\n",
      "duration_sec               183412 non-null int64\n",
      "start_time                 183412 non-null object\n",
      "end_time                   183412 non-null object\n",
      "start_station_id           183215 non-null float64\n",
      "start_station_name         183215 non-null object\n",
      "start_station_latitude     183412 non-null float64\n",
      "start_station_longitude    183412 non-null float64\n",
      "end_station_id             183215 non-null float64\n",
      "end_station_name           183215 non-null object\n",
      "end_station_latitude       183412 non-null float64\n",
      "end_station_longitude      183412 non-null float64\n",
      "bike_id                    183412 non-null int64\n",
      "user_type                  183412 non-null object\n",
      "member_birth_year          175147 non-null float64\n",
      "member_gender              175147 non-null object\n",
      "dtypes: float64(7), int64(2), object(6)\n",
      "memory usage: 21.0+ MB\n"
     ]
    }
   ],
   "source": [
    "bike_df.info()"
   ]
  },
  {
   "cell_type": "markdown",
   "metadata": {},
   "source": [
    "Apparently there's something else; start and end times should be time date. When spliting up the date/time, I'll have to see if they ever go over more than one calander day.\n",
    "\n",
    "I will also change the station IDs to integers."
   ]
  },
  {
   "cell_type": "markdown",
   "metadata": {},
   "source": [
    "Let's have a look at the non-null values in our dataset."
   ]
  },
  {
   "cell_type": "code",
   "execution_count": 11,
   "metadata": {},
   "outputs": [
    {
     "name": "stdout",
     "output_type": "stream",
     "text": [
      "duration_sec non-null: 183412\n",
      "start_time non-null: 183412\n",
      "end_time non-null: 183412\n",
      "start_station_id non-null: 183215\n",
      "start_station_name non-null: 183215\n",
      "start_station_latitude non-null: 183412\n",
      "start_station_longitude non-null: 183412\n",
      "end_station_id non-null: 183215\n",
      "end_station_name non-null: 183215\n",
      "end_station_latitude non-null: 183412\n",
      "end_station_longitude non-null: 183412\n",
      "bike_id non-null: 183412\n",
      "user_type non-null: 183412\n",
      "member_birth_year non-null: 175147\n",
      "member_gender non-null: 175147\n"
     ]
    }
   ],
   "source": [
    "for col in bike_df.columns:\n",
    "    print(col + ' non-null: ' + str(bike_df[col].count()))"
   ]
  },
  {
   "cell_type": "markdown",
   "metadata": {},
   "source": [
    "Why are there missing member_birth_year, and member_gender values but no missing station latitude and longitude?"
   ]
  },
  {
   "cell_type": "code",
   "execution_count": 12,
   "metadata": {},
   "outputs": [
    {
     "data": {
      "text/html": [
       "<div>\n",
       "<style scoped>\n",
       "    .dataframe tbody tr th:only-of-type {\n",
       "        vertical-align: middle;\n",
       "    }\n",
       "\n",
       "    .dataframe tbody tr th {\n",
       "        vertical-align: top;\n",
       "    }\n",
       "\n",
       "    .dataframe thead th {\n",
       "        text-align: right;\n",
       "    }\n",
       "</style>\n",
       "<table border=\"1\" class=\"dataframe\">\n",
       "  <thead>\n",
       "    <tr style=\"text-align: right;\">\n",
       "      <th></th>\n",
       "      <th>duration_sec</th>\n",
       "      <th>start_station_id</th>\n",
       "      <th>start_station_latitude</th>\n",
       "      <th>start_station_longitude</th>\n",
       "      <th>end_station_id</th>\n",
       "      <th>end_station_latitude</th>\n",
       "      <th>end_station_longitude</th>\n",
       "      <th>bike_id</th>\n",
       "      <th>member_birth_year</th>\n",
       "    </tr>\n",
       "  </thead>\n",
       "  <tbody>\n",
       "    <tr>\n",
       "      <th>count</th>\n",
       "      <td>183412.000000</td>\n",
       "      <td>183215.000000</td>\n",
       "      <td>183412.000000</td>\n",
       "      <td>183412.000000</td>\n",
       "      <td>183215.000000</td>\n",
       "      <td>183412.000000</td>\n",
       "      <td>183412.000000</td>\n",
       "      <td>183412.000000</td>\n",
       "      <td>175147.000000</td>\n",
       "    </tr>\n",
       "    <tr>\n",
       "      <th>mean</th>\n",
       "      <td>726.078435</td>\n",
       "      <td>138.590427</td>\n",
       "      <td>37.771223</td>\n",
       "      <td>-122.352664</td>\n",
       "      <td>136.249123</td>\n",
       "      <td>37.771427</td>\n",
       "      <td>-122.352250</td>\n",
       "      <td>4472.906375</td>\n",
       "      <td>1984.806437</td>\n",
       "    </tr>\n",
       "    <tr>\n",
       "      <th>std</th>\n",
       "      <td>1794.389780</td>\n",
       "      <td>111.778864</td>\n",
       "      <td>0.099581</td>\n",
       "      <td>0.117097</td>\n",
       "      <td>111.515131</td>\n",
       "      <td>0.099490</td>\n",
       "      <td>0.116673</td>\n",
       "      <td>1664.383394</td>\n",
       "      <td>10.116689</td>\n",
       "    </tr>\n",
       "    <tr>\n",
       "      <th>min</th>\n",
       "      <td>61.000000</td>\n",
       "      <td>3.000000</td>\n",
       "      <td>37.317298</td>\n",
       "      <td>-122.453704</td>\n",
       "      <td>3.000000</td>\n",
       "      <td>37.317298</td>\n",
       "      <td>-122.453704</td>\n",
       "      <td>11.000000</td>\n",
       "      <td>1878.000000</td>\n",
       "    </tr>\n",
       "    <tr>\n",
       "      <th>25%</th>\n",
       "      <td>325.000000</td>\n",
       "      <td>47.000000</td>\n",
       "      <td>37.770083</td>\n",
       "      <td>-122.412408</td>\n",
       "      <td>44.000000</td>\n",
       "      <td>37.770407</td>\n",
       "      <td>-122.411726</td>\n",
       "      <td>3777.000000</td>\n",
       "      <td>1980.000000</td>\n",
       "    </tr>\n",
       "    <tr>\n",
       "      <th>50%</th>\n",
       "      <td>514.000000</td>\n",
       "      <td>104.000000</td>\n",
       "      <td>37.780760</td>\n",
       "      <td>-122.398285</td>\n",
       "      <td>100.000000</td>\n",
       "      <td>37.781010</td>\n",
       "      <td>-122.398279</td>\n",
       "      <td>4958.000000</td>\n",
       "      <td>1987.000000</td>\n",
       "    </tr>\n",
       "    <tr>\n",
       "      <th>75%</th>\n",
       "      <td>796.000000</td>\n",
       "      <td>239.000000</td>\n",
       "      <td>37.797280</td>\n",
       "      <td>-122.286533</td>\n",
       "      <td>235.000000</td>\n",
       "      <td>37.797320</td>\n",
       "      <td>-122.288045</td>\n",
       "      <td>5502.000000</td>\n",
       "      <td>1992.000000</td>\n",
       "    </tr>\n",
       "    <tr>\n",
       "      <th>max</th>\n",
       "      <td>85444.000000</td>\n",
       "      <td>398.000000</td>\n",
       "      <td>37.880222</td>\n",
       "      <td>-121.874119</td>\n",
       "      <td>398.000000</td>\n",
       "      <td>37.880222</td>\n",
       "      <td>-121.874119</td>\n",
       "      <td>6645.000000</td>\n",
       "      <td>2001.000000</td>\n",
       "    </tr>\n",
       "  </tbody>\n",
       "</table>\n",
       "</div>"
      ],
      "text/plain": [
       "        duration_sec  start_station_id  start_station_latitude  \\\n",
       "count  183412.000000     183215.000000           183412.000000   \n",
       "mean      726.078435        138.590427               37.771223   \n",
       "std      1794.389780        111.778864                0.099581   \n",
       "min        61.000000          3.000000               37.317298   \n",
       "25%       325.000000         47.000000               37.770083   \n",
       "50%       514.000000        104.000000               37.780760   \n",
       "75%       796.000000        239.000000               37.797280   \n",
       "max     85444.000000        398.000000               37.880222   \n",
       "\n",
       "       start_station_longitude  end_station_id  end_station_latitude  \\\n",
       "count            183412.000000   183215.000000         183412.000000   \n",
       "mean               -122.352664      136.249123             37.771427   \n",
       "std                   0.117097      111.515131              0.099490   \n",
       "min                -122.453704        3.000000             37.317298   \n",
       "25%                -122.412408       44.000000             37.770407   \n",
       "50%                -122.398285      100.000000             37.781010   \n",
       "75%                -122.286533      235.000000             37.797320   \n",
       "max                -121.874119      398.000000             37.880222   \n",
       "\n",
       "       end_station_longitude        bike_id  member_birth_year  \n",
       "count          183412.000000  183412.000000      175147.000000  \n",
       "mean             -122.352250    4472.906375        1984.806437  \n",
       "std                 0.116673    1664.383394          10.116689  \n",
       "min              -122.453704      11.000000        1878.000000  \n",
       "25%              -122.411726    3777.000000        1980.000000  \n",
       "50%              -122.398279    4958.000000        1987.000000  \n",
       "75%              -122.288045    5502.000000        1992.000000  \n",
       "max              -121.874119    6645.000000        2001.000000  "
      ]
     },
     "execution_count": 12,
     "metadata": {},
     "output_type": "execute_result"
    }
   ],
   "source": [
    "bike_df.describe()"
   ]
  },
  {
   "cell_type": "code",
   "execution_count": 13,
   "metadata": {},
   "outputs": [
    {
     "data": {
      "text/plain": [
       "duration_sec                 4752\n",
       "start_time                 183401\n",
       "end_time                   183397\n",
       "start_station_id              329\n",
       "start_station_name            329\n",
       "start_station_latitude        334\n",
       "start_station_longitude       335\n",
       "end_station_id                329\n",
       "end_station_name              329\n",
       "end_station_latitude          335\n",
       "end_station_longitude         335\n",
       "bike_id                      4646\n",
       "user_type                       2\n",
       "member_birth_year              75\n",
       "member_gender                   3\n",
       "dtype: int64"
      ]
     },
     "execution_count": 13,
     "metadata": {},
     "output_type": "execute_result"
    }
   ],
   "source": [
    "bike_df.nunique()"
   ]
  },
  {
   "cell_type": "markdown",
   "metadata": {},
   "source": [
    "A few interesting things about the number of unique values. There are 4,646 bikes in the system, and two user types (subscriber and customer... not sure what the difference is). The start and end times are nearly all unique which makes sense. The durration strikes me as a little strange, I'd expect a lot more here but it's probably just a bunch of short rides. There are 329 names, but 75 member_birth_year; It seems some user_ids were either not willing to mention their year of birth or maybe the adta was left out during filling. At the same time, there are over 300 thousand latitudes and longitudes; this probably means that they are too precise and I'll need to round them a bit to get the station location (find the mean see the max and min for each station to figure it out)."
   ]
  },
  {
   "cell_type": "markdown",
   "metadata": {},
   "source": [
    "Let's now look at the time intervals."
   ]
  },
  {
   "cell_type": "code",
   "execution_count": 14,
   "metadata": {},
   "outputs": [
    {
     "name": "stdout",
     "output_type": "stream",
     "text": [
      "Number 1 second or more: 183412\n",
      "Number 1 minute or more: 183412\n",
      "Number 1 hour or more: 1710\n",
      "Number 1 day or more: 0\n",
      "Number 1 week or more: 0\n"
     ]
    }
   ],
   "source": [
    "print('Number 1 second or more: ' + str(bike_df[bike_df['duration_sec'] > 0].shape[0]))\n",
    "print('Number 1 minute or more: ' + str(bike_df[bike_df['duration_sec'] > 60].shape[0]))\n",
    "print('Number 1 hour or more: ' + str(bike_df[bike_df['duration_sec'] > 3600].shape[0]))\n",
    "print('Number 1 day or more: ' + str(bike_df[bike_df['duration_sec'] > 86400].shape[0]))\n",
    "print('Number 1 week or more: ' + str(bike_df[bike_df['duration_sec'] > 604800].shape[0]))"
   ]
  },
  {
   "cell_type": "markdown",
   "metadata": {},
   "source": [
    "Most of the time intervals are either 1 minute or just a second and only 1710 are over an hour. "
   ]
  },
  {
   "cell_type": "markdown",
   "metadata": {},
   "source": [
    "Having no issue with duplicates eases up our data set to have accurate visualizations."
   ]
  },
  {
   "cell_type": "markdown",
   "metadata": {},
   "source": [
    "### Task list:\n",
    "\n",
    "1. Change start and end times to date time.\n",
    "2. Drop the duplicated stations\n",
    "3. Get the data, time, and day of the week into seperate columns (I will have to change the original column title from time to time_stamp).\n",
    "4. Fill in the Nan values in the member_gender column.\n",
    "\n",
    "5. Create a dataframe with the station data (for easy look up of data).\n"
   ]
  },
  {
   "cell_type": "markdown",
   "metadata": {},
   "source": [
    "### Cleaning\n",
    "I'm going to start by first changing start and end time to data/time."
   ]
  },
  {
   "cell_type": "code",
   "execution_count": 15,
   "metadata": {},
   "outputs": [
    {
     "data": {
      "text/plain": [
       "duration_sec                        int64\n",
       "start_time                 datetime64[ns]\n",
       "end_time                   datetime64[ns]\n",
       "start_station_id                  float64\n",
       "start_station_name                 object\n",
       "start_station_latitude            float64\n",
       "start_station_longitude           float64\n",
       "end_station_id                    float64\n",
       "end_station_name                   object\n",
       "end_station_latitude              float64\n",
       "end_station_longitude             float64\n",
       "bike_id                             int64\n",
       "user_type                          object\n",
       "member_birth_year                 float64\n",
       "member_gender                      object\n",
       "dtype: object"
      ]
     },
     "execution_count": 15,
     "metadata": {},
     "output_type": "execute_result"
    }
   ],
   "source": [
    "bike_df['start_time'] = pd.to_datetime(bike_df['start_time'])\n",
    "bike_df['end_time'] = pd.to_datetime(bike_df['end_time'])\n",
    "bike_df.dtypes"
   ]
  },
  {
   "cell_type": "markdown",
   "metadata": {},
   "source": [
    "Secondly, lets sort out the duplicated station namesby using drop function."
   ]
  },
  {
   "cell_type": "code",
   "execution_count": 16,
   "metadata": {},
   "outputs": [
    {
     "data": {
      "text/plain": [
       "(330, 2)"
      ]
     },
     "execution_count": 16,
     "metadata": {},
     "output_type": "execute_result"
    }
   ],
   "source": [
    "# Looking into duplicate station names.\n",
    "stations = bike_df[['start_station_id', 'start_station_name']].drop_duplicates()\n",
    "stations.shape"
   ]
  },
  {
   "cell_type": "code",
   "execution_count": 17,
   "metadata": {},
   "outputs": [
    {
     "data": {
      "text/plain": [
       "(329, 1)"
      ]
     },
     "execution_count": 17,
     "metadata": {},
     "output_type": "execute_result"
    }
   ],
   "source": [
    "station_name_count = stations[['start_station_id', 'start_station_name']].groupby('start_station_id').agg('count')\n",
    "station_name_count.shape"
   ]
  },
  {
   "cell_type": "code",
   "execution_count": 18,
   "metadata": {},
   "outputs": [
    {
     "data": {
      "text/plain": [
       "(0, 1)"
      ]
     },
     "execution_count": 18,
     "metadata": {},
     "output_type": "execute_result"
    }
   ],
   "source": [
    "# Now lets remove the duplicates \n",
    "station_name_dup = station_name_count[station_name_count['start_station_name'] > 1]\n",
    "station_name_dup.shape"
   ]
  },
  {
   "cell_type": "markdown",
   "metadata": {},
   "source": [
    "\n",
    "Now time to split out the time. But first let's change to a more appropriate name."
   ]
  },
  {
   "cell_type": "code",
   "execution_count": 19,
   "metadata": {},
   "outputs": [
    {
     "data": {
      "text/plain": [
       "duration_sec                        int64\n",
       "start_timestamp            datetime64[ns]\n",
       "end_timestamp              datetime64[ns]\n",
       "start_station_id                  float64\n",
       "start_station_name                 object\n",
       "start_station_latitude            float64\n",
       "start_station_longitude           float64\n",
       "end_station_id                    float64\n",
       "end_station_name                   object\n",
       "end_station_latitude              float64\n",
       "end_station_longitude             float64\n",
       "bike_id                             int64\n",
       "user_type                          object\n",
       "member_birth_year                 float64\n",
       "member_gender                      object\n",
       "start_date                         object\n",
       "start_time                         object\n",
       "start_weekday                       int64\n",
       "end_date                           object\n",
       "end_time                           object\n",
       "end_weekday                         int64\n",
       "dtype: object"
      ]
     },
     "execution_count": 19,
     "metadata": {},
     "output_type": "execute_result"
    }
   ],
   "source": [
    "# Lets change the names\n",
    "bike_df.rename(columns = {'start_time':'start_timestamp', 'end_time':'end_timestamp'}, inplace = True)\n",
    "\n",
    "#Now lets split the time \n",
    "bike_df['start_date'] = bike_df['start_timestamp'].dt.date\n",
    "bike_df['start_time'] = bike_df['start_timestamp'].dt.time\n",
    "bike_df['start_weekday'] = bike_df['start_timestamp'].dt.weekday\n",
    "bike_df['end_date'] = bike_df['end_timestamp'].dt.date\n",
    "bike_df['end_time'] = bike_df['end_timestamp'].dt.time\n",
    "bike_df['end_weekday'] = bike_df['end_timestamp'].dt.weekday\n",
    "bike_df.dtypes"
   ]
  },
  {
   "cell_type": "code",
   "execution_count": 20,
   "metadata": {
    "scrolled": true
   },
   "outputs": [
    {
     "data": {
      "text/html": [
       "<div>\n",
       "<style scoped>\n",
       "    .dataframe tbody tr th:only-of-type {\n",
       "        vertical-align: middle;\n",
       "    }\n",
       "\n",
       "    .dataframe tbody tr th {\n",
       "        vertical-align: top;\n",
       "    }\n",
       "\n",
       "    .dataframe thead th {\n",
       "        text-align: right;\n",
       "    }\n",
       "</style>\n",
       "<table border=\"1\" class=\"dataframe\">\n",
       "  <thead>\n",
       "    <tr style=\"text-align: right;\">\n",
       "      <th></th>\n",
       "      <th>duration_sec</th>\n",
       "      <th>start_timestamp</th>\n",
       "      <th>end_timestamp</th>\n",
       "      <th>start_station_id</th>\n",
       "      <th>start_station_name</th>\n",
       "      <th>start_station_latitude</th>\n",
       "      <th>start_station_longitude</th>\n",
       "      <th>end_station_id</th>\n",
       "      <th>end_station_name</th>\n",
       "      <th>end_station_latitude</th>\n",
       "      <th>...</th>\n",
       "      <th>bike_id</th>\n",
       "      <th>user_type</th>\n",
       "      <th>member_birth_year</th>\n",
       "      <th>member_gender</th>\n",
       "      <th>start_date</th>\n",
       "      <th>start_time</th>\n",
       "      <th>start_weekday</th>\n",
       "      <th>end_date</th>\n",
       "      <th>end_time</th>\n",
       "      <th>end_weekday</th>\n",
       "    </tr>\n",
       "  </thead>\n",
       "  <tbody>\n",
       "    <tr>\n",
       "      <th>68951</th>\n",
       "      <td>450</td>\n",
       "      <td>2019-02-19 20:37:42.898</td>\n",
       "      <td>2019-02-19 20:45:13.188</td>\n",
       "      <td>193.0</td>\n",
       "      <td>Grand Ave at Santa Clara Ave</td>\n",
       "      <td>37.812744</td>\n",
       "      <td>-122.247215</td>\n",
       "      <td>181.0</td>\n",
       "      <td>Grand Ave at Webster St</td>\n",
       "      <td>37.811377</td>\n",
       "      <td>...</td>\n",
       "      <td>2471</td>\n",
       "      <td>Customer</td>\n",
       "      <td>NaN</td>\n",
       "      <td>NaN</td>\n",
       "      <td>2019-02-19</td>\n",
       "      <td>20:37:42.898000</td>\n",
       "      <td>1</td>\n",
       "      <td>2019-02-19</td>\n",
       "      <td>20:45:13.188000</td>\n",
       "      <td>1</td>\n",
       "    </tr>\n",
       "    <tr>\n",
       "      <th>89789</th>\n",
       "      <td>532</td>\n",
       "      <td>2019-02-16 14:35:43.704</td>\n",
       "      <td>2019-02-16 14:44:36.279</td>\n",
       "      <td>279.0</td>\n",
       "      <td>Santa Clara St at 7th St</td>\n",
       "      <td>37.339146</td>\n",
       "      <td>-121.884105</td>\n",
       "      <td>305.0</td>\n",
       "      <td>Ryland Park</td>\n",
       "      <td>37.342725</td>\n",
       "      <td>...</td>\n",
       "      <td>6346</td>\n",
       "      <td>Subscriber</td>\n",
       "      <td>1999.0</td>\n",
       "      <td>Male</td>\n",
       "      <td>2019-02-16</td>\n",
       "      <td>14:35:43.704000</td>\n",
       "      <td>5</td>\n",
       "      <td>2019-02-16</td>\n",
       "      <td>14:44:36.279000</td>\n",
       "      <td>5</td>\n",
       "    </tr>\n",
       "    <tr>\n",
       "      <th>68257</th>\n",
       "      <td>580</td>\n",
       "      <td>2019-02-20 01:59:19.572</td>\n",
       "      <td>2019-02-20 02:09:00.025</td>\n",
       "      <td>175.0</td>\n",
       "      <td>49th St at Telegraph Ave</td>\n",
       "      <td>37.835946</td>\n",
       "      <td>-122.262366</td>\n",
       "      <td>156.0</td>\n",
       "      <td>Stanford Ave at Hollis St</td>\n",
       "      <td>37.838443</td>\n",
       "      <td>...</td>\n",
       "      <td>4916</td>\n",
       "      <td>Subscriber</td>\n",
       "      <td>1980.0</td>\n",
       "      <td>Male</td>\n",
       "      <td>2019-02-20</td>\n",
       "      <td>01:59:19.572000</td>\n",
       "      <td>2</td>\n",
       "      <td>2019-02-20</td>\n",
       "      <td>02:09:00.025000</td>\n",
       "      <td>2</td>\n",
       "    </tr>\n",
       "    <tr>\n",
       "      <th>166671</th>\n",
       "      <td>444</td>\n",
       "      <td>2019-02-04 18:23:33.979</td>\n",
       "      <td>2019-02-04 18:30:58.306</td>\n",
       "      <td>96.0</td>\n",
       "      <td>Dolores St at 15th St</td>\n",
       "      <td>37.766210</td>\n",
       "      <td>-122.426614</td>\n",
       "      <td>75.0</td>\n",
       "      <td>Market St at Franklin St</td>\n",
       "      <td>37.773793</td>\n",
       "      <td>...</td>\n",
       "      <td>283</td>\n",
       "      <td>Subscriber</td>\n",
       "      <td>1987.0</td>\n",
       "      <td>Male</td>\n",
       "      <td>2019-02-04</td>\n",
       "      <td>18:23:33.979000</td>\n",
       "      <td>0</td>\n",
       "      <td>2019-02-04</td>\n",
       "      <td>18:30:58.306000</td>\n",
       "      <td>0</td>\n",
       "    </tr>\n",
       "    <tr>\n",
       "      <th>16395</th>\n",
       "      <td>234</td>\n",
       "      <td>2019-02-27 08:37:36.564</td>\n",
       "      <td>2019-02-27 08:41:31.488</td>\n",
       "      <td>63.0</td>\n",
       "      <td>Bryant St at 6th St</td>\n",
       "      <td>37.775910</td>\n",
       "      <td>-122.402575</td>\n",
       "      <td>30.0</td>\n",
       "      <td>San Francisco Caltrain (Townsend St at 4th St)</td>\n",
       "      <td>37.776598</td>\n",
       "      <td>...</td>\n",
       "      <td>6525</td>\n",
       "      <td>Subscriber</td>\n",
       "      <td>1985.0</td>\n",
       "      <td>Male</td>\n",
       "      <td>2019-02-27</td>\n",
       "      <td>08:37:36.564000</td>\n",
       "      <td>2</td>\n",
       "      <td>2019-02-27</td>\n",
       "      <td>08:41:31.488000</td>\n",
       "      <td>2</td>\n",
       "    </tr>\n",
       "    <tr>\n",
       "      <th>72126</th>\n",
       "      <td>605</td>\n",
       "      <td>2019-02-19 16:50:17.942</td>\n",
       "      <td>2019-02-19 17:00:23.693</td>\n",
       "      <td>20.0</td>\n",
       "      <td>Mechanics Monument Plaza (Market St at Bush St)</td>\n",
       "      <td>37.791300</td>\n",
       "      <td>-122.399051</td>\n",
       "      <td>58.0</td>\n",
       "      <td>Market St at 10th St</td>\n",
       "      <td>37.776619</td>\n",
       "      <td>...</td>\n",
       "      <td>5133</td>\n",
       "      <td>Subscriber</td>\n",
       "      <td>1998.0</td>\n",
       "      <td>Male</td>\n",
       "      <td>2019-02-19</td>\n",
       "      <td>16:50:17.942000</td>\n",
       "      <td>1</td>\n",
       "      <td>2019-02-19</td>\n",
       "      <td>17:00:23.693000</td>\n",
       "      <td>1</td>\n",
       "    </tr>\n",
       "    <tr>\n",
       "      <th>425</th>\n",
       "      <td>2019</td>\n",
       "      <td>2019-02-28 21:01:35.486</td>\n",
       "      <td>2019-02-28 21:35:15.270</td>\n",
       "      <td>195.0</td>\n",
       "      <td>Bay Pl at Vernon St</td>\n",
       "      <td>37.812314</td>\n",
       "      <td>-122.260779</td>\n",
       "      <td>159.0</td>\n",
       "      <td>24th St at Market St</td>\n",
       "      <td>37.816060</td>\n",
       "      <td>...</td>\n",
       "      <td>5563</td>\n",
       "      <td>Subscriber</td>\n",
       "      <td>1998.0</td>\n",
       "      <td>Female</td>\n",
       "      <td>2019-02-28</td>\n",
       "      <td>21:01:35.486000</td>\n",
       "      <td>3</td>\n",
       "      <td>2019-02-28</td>\n",
       "      <td>21:35:15.270000</td>\n",
       "      <td>3</td>\n",
       "    </tr>\n",
       "    <tr>\n",
       "      <th>83637</th>\n",
       "      <td>490</td>\n",
       "      <td>2019-02-17 21:44:21.458</td>\n",
       "      <td>2019-02-17 21:52:32.171</td>\n",
       "      <td>309.0</td>\n",
       "      <td>San Jose City Hall</td>\n",
       "      <td>37.337391</td>\n",
       "      <td>-121.886995</td>\n",
       "      <td>277.0</td>\n",
       "      <td>Morrison Ave at Julian St</td>\n",
       "      <td>37.333658</td>\n",
       "      <td>...</td>\n",
       "      <td>3783</td>\n",
       "      <td>Subscriber</td>\n",
       "      <td>1995.0</td>\n",
       "      <td>Male</td>\n",
       "      <td>2019-02-17</td>\n",
       "      <td>21:44:21.458000</td>\n",
       "      <td>6</td>\n",
       "      <td>2019-02-17</td>\n",
       "      <td>21:52:32.171000</td>\n",
       "      <td>6</td>\n",
       "    </tr>\n",
       "    <tr>\n",
       "      <th>128365</th>\n",
       "      <td>771</td>\n",
       "      <td>2019-02-10 13:21:12.622</td>\n",
       "      <td>2019-02-10 13:34:04.413</td>\n",
       "      <td>3.0</td>\n",
       "      <td>Powell St BART Station (Market St at 4th St)</td>\n",
       "      <td>37.786375</td>\n",
       "      <td>-122.404904</td>\n",
       "      <td>8.0</td>\n",
       "      <td>The Embarcadero at Vallejo St</td>\n",
       "      <td>37.799953</td>\n",
       "      <td>...</td>\n",
       "      <td>4713</td>\n",
       "      <td>Subscriber</td>\n",
       "      <td>1993.0</td>\n",
       "      <td>Female</td>\n",
       "      <td>2019-02-10</td>\n",
       "      <td>13:21:12.622000</td>\n",
       "      <td>6</td>\n",
       "      <td>2019-02-10</td>\n",
       "      <td>13:34:04.413000</td>\n",
       "      <td>6</td>\n",
       "    </tr>\n",
       "    <tr>\n",
       "      <th>76781</th>\n",
       "      <td>654</td>\n",
       "      <td>2019-02-19 07:57:23.215</td>\n",
       "      <td>2019-02-19 08:08:17.457</td>\n",
       "      <td>16.0</td>\n",
       "      <td>Steuart St at Market St</td>\n",
       "      <td>37.794130</td>\n",
       "      <td>-122.394430</td>\n",
       "      <td>104.0</td>\n",
       "      <td>4th St at 16th St</td>\n",
       "      <td>37.767045</td>\n",
       "      <td>...</td>\n",
       "      <td>6563</td>\n",
       "      <td>Customer</td>\n",
       "      <td>1987.0</td>\n",
       "      <td>Female</td>\n",
       "      <td>2019-02-19</td>\n",
       "      <td>07:57:23.215000</td>\n",
       "      <td>1</td>\n",
       "      <td>2019-02-19</td>\n",
       "      <td>08:08:17.457000</td>\n",
       "      <td>1</td>\n",
       "    </tr>\n",
       "    <tr>\n",
       "      <th>40609</th>\n",
       "      <td>1759</td>\n",
       "      <td>2019-02-22 19:47:57.878</td>\n",
       "      <td>2019-02-22 20:17:17.502</td>\n",
       "      <td>139.0</td>\n",
       "      <td>Garfield Square (25th St at Harrison St)</td>\n",
       "      <td>37.751017</td>\n",
       "      <td>-122.411901</td>\n",
       "      <td>105.0</td>\n",
       "      <td>16th St at Prosper St</td>\n",
       "      <td>37.764285</td>\n",
       "      <td>...</td>\n",
       "      <td>5048</td>\n",
       "      <td>Subscriber</td>\n",
       "      <td>1987.0</td>\n",
       "      <td>Male</td>\n",
       "      <td>2019-02-22</td>\n",
       "      <td>19:47:57.878000</td>\n",
       "      <td>4</td>\n",
       "      <td>2019-02-22</td>\n",
       "      <td>20:17:17.502000</td>\n",
       "      <td>4</td>\n",
       "    </tr>\n",
       "    <tr>\n",
       "      <th>181262</th>\n",
       "      <td>763</td>\n",
       "      <td>2019-02-01 09:15:06.985</td>\n",
       "      <td>2019-02-01 09:27:50.257</td>\n",
       "      <td>6.0</td>\n",
       "      <td>The Embarcadero at Sansome St</td>\n",
       "      <td>37.804770</td>\n",
       "      <td>-122.403234</td>\n",
       "      <td>5.0</td>\n",
       "      <td>Powell St BART Station (Market St at 5th St)</td>\n",
       "      <td>37.783899</td>\n",
       "      <td>...</td>\n",
       "      <td>4820</td>\n",
       "      <td>Subscriber</td>\n",
       "      <td>1990.0</td>\n",
       "      <td>Male</td>\n",
       "      <td>2019-02-01</td>\n",
       "      <td>09:15:06.985000</td>\n",
       "      <td>4</td>\n",
       "      <td>2019-02-01</td>\n",
       "      <td>09:27:50.257000</td>\n",
       "      <td>4</td>\n",
       "    </tr>\n",
       "    <tr>\n",
       "      <th>159867</th>\n",
       "      <td>1168</td>\n",
       "      <td>2019-02-05 17:24:15.013</td>\n",
       "      <td>2019-02-05 17:43:43.122</td>\n",
       "      <td>37.0</td>\n",
       "      <td>2nd St at Folsom St</td>\n",
       "      <td>37.785000</td>\n",
       "      <td>-122.395936</td>\n",
       "      <td>223.0</td>\n",
       "      <td>16th St Mission BART Station 2</td>\n",
       "      <td>37.764765</td>\n",
       "      <td>...</td>\n",
       "      <td>425</td>\n",
       "      <td>Subscriber</td>\n",
       "      <td>1991.0</td>\n",
       "      <td>Male</td>\n",
       "      <td>2019-02-05</td>\n",
       "      <td>17:24:15.013000</td>\n",
       "      <td>1</td>\n",
       "      <td>2019-02-05</td>\n",
       "      <td>17:43:43.122000</td>\n",
       "      <td>1</td>\n",
       "    </tr>\n",
       "    <tr>\n",
       "      <th>157080</th>\n",
       "      <td>242</td>\n",
       "      <td>2019-02-06 06:22:30.220</td>\n",
       "      <td>2019-02-06 06:26:32.643</td>\n",
       "      <td>64.0</td>\n",
       "      <td>5th St at Brannan St</td>\n",
       "      <td>37.776754</td>\n",
       "      <td>-122.399018</td>\n",
       "      <td>3.0</td>\n",
       "      <td>Powell St BART Station (Market St at 4th St)</td>\n",
       "      <td>37.786375</td>\n",
       "      <td>...</td>\n",
       "      <td>5356</td>\n",
       "      <td>Subscriber</td>\n",
       "      <td>1995.0</td>\n",
       "      <td>Male</td>\n",
       "      <td>2019-02-06</td>\n",
       "      <td>06:22:30.220000</td>\n",
       "      <td>2</td>\n",
       "      <td>2019-02-06</td>\n",
       "      <td>06:26:32.643000</td>\n",
       "      <td>2</td>\n",
       "    </tr>\n",
       "    <tr>\n",
       "      <th>79461</th>\n",
       "      <td>220</td>\n",
       "      <td>2019-02-18 17:35:25.101</td>\n",
       "      <td>2019-02-18 17:39:05.179</td>\n",
       "      <td>63.0</td>\n",
       "      <td>Bryant St at 6th St</td>\n",
       "      <td>37.775910</td>\n",
       "      <td>-122.402575</td>\n",
       "      <td>321.0</td>\n",
       "      <td>5th St at Folsom</td>\n",
       "      <td>37.780146</td>\n",
       "      <td>...</td>\n",
       "      <td>443</td>\n",
       "      <td>Subscriber</td>\n",
       "      <td>1986.0</td>\n",
       "      <td>Male</td>\n",
       "      <td>2019-02-18</td>\n",
       "      <td>17:35:25.101000</td>\n",
       "      <td>0</td>\n",
       "      <td>2019-02-18</td>\n",
       "      <td>17:39:05.179000</td>\n",
       "      <td>0</td>\n",
       "    </tr>\n",
       "    <tr>\n",
       "      <th>64622</th>\n",
       "      <td>392</td>\n",
       "      <td>2019-02-20 11:35:09.702</td>\n",
       "      <td>2019-02-20 11:41:41.789</td>\n",
       "      <td>50.0</td>\n",
       "      <td>2nd St at Townsend St</td>\n",
       "      <td>37.780526</td>\n",
       "      <td>-122.390288</td>\n",
       "      <td>21.0</td>\n",
       "      <td>Montgomery St BART Station (Market St at 2nd St)</td>\n",
       "      <td>37.789625</td>\n",
       "      <td>...</td>\n",
       "      <td>4373</td>\n",
       "      <td>Subscriber</td>\n",
       "      <td>1974.0</td>\n",
       "      <td>Male</td>\n",
       "      <td>2019-02-20</td>\n",
       "      <td>11:35:09.702000</td>\n",
       "      <td>2</td>\n",
       "      <td>2019-02-20</td>\n",
       "      <td>11:41:41.789000</td>\n",
       "      <td>2</td>\n",
       "    </tr>\n",
       "    <tr>\n",
       "      <th>94912</th>\n",
       "      <td>481</td>\n",
       "      <td>2019-02-15 15:32:16.163</td>\n",
       "      <td>2019-02-15 15:40:17.902</td>\n",
       "      <td>95.0</td>\n",
       "      <td>Sanchez St at 15th St</td>\n",
       "      <td>37.766219</td>\n",
       "      <td>-122.431060</td>\n",
       "      <td>131.0</td>\n",
       "      <td>22nd St at Dolores St</td>\n",
       "      <td>37.755000</td>\n",
       "      <td>...</td>\n",
       "      <td>6527</td>\n",
       "      <td>Subscriber</td>\n",
       "      <td>1974.0</td>\n",
       "      <td>Male</td>\n",
       "      <td>2019-02-15</td>\n",
       "      <td>15:32:16.163000</td>\n",
       "      <td>4</td>\n",
       "      <td>2019-02-15</td>\n",
       "      <td>15:40:17.902000</td>\n",
       "      <td>4</td>\n",
       "    </tr>\n",
       "    <tr>\n",
       "      <th>106255</th>\n",
       "      <td>340</td>\n",
       "      <td>2019-02-13 18:33:58.209</td>\n",
       "      <td>2019-02-13 18:39:38.838</td>\n",
       "      <td>66.0</td>\n",
       "      <td>3rd St at Townsend St</td>\n",
       "      <td>37.778742</td>\n",
       "      <td>-122.392741</td>\n",
       "      <td>27.0</td>\n",
       "      <td>Beale St at Harrison St</td>\n",
       "      <td>37.788059</td>\n",
       "      <td>...</td>\n",
       "      <td>5517</td>\n",
       "      <td>Subscriber</td>\n",
       "      <td>1992.0</td>\n",
       "      <td>Male</td>\n",
       "      <td>2019-02-13</td>\n",
       "      <td>18:33:58.209000</td>\n",
       "      <td>2</td>\n",
       "      <td>2019-02-13</td>\n",
       "      <td>18:39:38.838000</td>\n",
       "      <td>2</td>\n",
       "    </tr>\n",
       "    <tr>\n",
       "      <th>57624</th>\n",
       "      <td>1011</td>\n",
       "      <td>2019-02-21 07:58:12.530</td>\n",
       "      <td>2019-02-21 08:15:03.560</td>\n",
       "      <td>52.0</td>\n",
       "      <td>McAllister St at Baker St</td>\n",
       "      <td>37.777416</td>\n",
       "      <td>-122.441838</td>\n",
       "      <td>19.0</td>\n",
       "      <td>Post St at Kearny St</td>\n",
       "      <td>37.788975</td>\n",
       "      <td>...</td>\n",
       "      <td>5489</td>\n",
       "      <td>Subscriber</td>\n",
       "      <td>1988.0</td>\n",
       "      <td>Female</td>\n",
       "      <td>2019-02-21</td>\n",
       "      <td>07:58:12.530000</td>\n",
       "      <td>3</td>\n",
       "      <td>2019-02-21</td>\n",
       "      <td>08:15:03.560000</td>\n",
       "      <td>3</td>\n",
       "    </tr>\n",
       "    <tr>\n",
       "      <th>112605</th>\n",
       "      <td>264</td>\n",
       "      <td>2019-02-12 14:56:09.785</td>\n",
       "      <td>2019-02-12 15:00:34.295</td>\n",
       "      <td>7.0</td>\n",
       "      <td>Frank H Ogawa Plaza</td>\n",
       "      <td>37.804562</td>\n",
       "      <td>-122.271738</td>\n",
       "      <td>180.0</td>\n",
       "      <td>Telegraph Ave at 23rd St</td>\n",
       "      <td>37.812678</td>\n",
       "      <td>...</td>\n",
       "      <td>4703</td>\n",
       "      <td>Subscriber</td>\n",
       "      <td>1991.0</td>\n",
       "      <td>Female</td>\n",
       "      <td>2019-02-12</td>\n",
       "      <td>14:56:09.785000</td>\n",
       "      <td>1</td>\n",
       "      <td>2019-02-12</td>\n",
       "      <td>15:00:34.295000</td>\n",
       "      <td>1</td>\n",
       "    </tr>\n",
       "  </tbody>\n",
       "</table>\n",
       "<p>20 rows × 21 columns</p>\n",
       "</div>"
      ],
      "text/plain": [
       "        duration_sec         start_timestamp           end_timestamp  \\\n",
       "68951            450 2019-02-19 20:37:42.898 2019-02-19 20:45:13.188   \n",
       "89789            532 2019-02-16 14:35:43.704 2019-02-16 14:44:36.279   \n",
       "68257            580 2019-02-20 01:59:19.572 2019-02-20 02:09:00.025   \n",
       "166671           444 2019-02-04 18:23:33.979 2019-02-04 18:30:58.306   \n",
       "16395            234 2019-02-27 08:37:36.564 2019-02-27 08:41:31.488   \n",
       "72126            605 2019-02-19 16:50:17.942 2019-02-19 17:00:23.693   \n",
       "425             2019 2019-02-28 21:01:35.486 2019-02-28 21:35:15.270   \n",
       "83637            490 2019-02-17 21:44:21.458 2019-02-17 21:52:32.171   \n",
       "128365           771 2019-02-10 13:21:12.622 2019-02-10 13:34:04.413   \n",
       "76781            654 2019-02-19 07:57:23.215 2019-02-19 08:08:17.457   \n",
       "40609           1759 2019-02-22 19:47:57.878 2019-02-22 20:17:17.502   \n",
       "181262           763 2019-02-01 09:15:06.985 2019-02-01 09:27:50.257   \n",
       "159867          1168 2019-02-05 17:24:15.013 2019-02-05 17:43:43.122   \n",
       "157080           242 2019-02-06 06:22:30.220 2019-02-06 06:26:32.643   \n",
       "79461            220 2019-02-18 17:35:25.101 2019-02-18 17:39:05.179   \n",
       "64622            392 2019-02-20 11:35:09.702 2019-02-20 11:41:41.789   \n",
       "94912            481 2019-02-15 15:32:16.163 2019-02-15 15:40:17.902   \n",
       "106255           340 2019-02-13 18:33:58.209 2019-02-13 18:39:38.838   \n",
       "57624           1011 2019-02-21 07:58:12.530 2019-02-21 08:15:03.560   \n",
       "112605           264 2019-02-12 14:56:09.785 2019-02-12 15:00:34.295   \n",
       "\n",
       "        start_station_id                               start_station_name  \\\n",
       "68951              193.0                     Grand Ave at Santa Clara Ave   \n",
       "89789              279.0                         Santa Clara St at 7th St   \n",
       "68257              175.0                         49th St at Telegraph Ave   \n",
       "166671              96.0                            Dolores St at 15th St   \n",
       "16395               63.0                              Bryant St at 6th St   \n",
       "72126               20.0  Mechanics Monument Plaza (Market St at Bush St)   \n",
       "425                195.0                              Bay Pl at Vernon St   \n",
       "83637              309.0                               San Jose City Hall   \n",
       "128365               3.0     Powell St BART Station (Market St at 4th St)   \n",
       "76781               16.0                          Steuart St at Market St   \n",
       "40609              139.0         Garfield Square (25th St at Harrison St)   \n",
       "181262               6.0                    The Embarcadero at Sansome St   \n",
       "159867              37.0                              2nd St at Folsom St   \n",
       "157080              64.0                             5th St at Brannan St   \n",
       "79461               63.0                              Bryant St at 6th St   \n",
       "64622               50.0                            2nd St at Townsend St   \n",
       "94912               95.0                            Sanchez St at 15th St   \n",
       "106255              66.0                            3rd St at Townsend St   \n",
       "57624               52.0                        McAllister St at Baker St   \n",
       "112605               7.0                              Frank H Ogawa Plaza   \n",
       "\n",
       "        start_station_latitude  start_station_longitude  end_station_id  \\\n",
       "68951                37.812744              -122.247215           181.0   \n",
       "89789                37.339146              -121.884105           305.0   \n",
       "68257                37.835946              -122.262366           156.0   \n",
       "166671               37.766210              -122.426614            75.0   \n",
       "16395                37.775910              -122.402575            30.0   \n",
       "72126                37.791300              -122.399051            58.0   \n",
       "425                  37.812314              -122.260779           159.0   \n",
       "83637                37.337391              -121.886995           277.0   \n",
       "128365               37.786375              -122.404904             8.0   \n",
       "76781                37.794130              -122.394430           104.0   \n",
       "40609                37.751017              -122.411901           105.0   \n",
       "181262               37.804770              -122.403234             5.0   \n",
       "159867               37.785000              -122.395936           223.0   \n",
       "157080               37.776754              -122.399018             3.0   \n",
       "79461                37.775910              -122.402575           321.0   \n",
       "64622                37.780526              -122.390288            21.0   \n",
       "94912                37.766219              -122.431060           131.0   \n",
       "106255               37.778742              -122.392741            27.0   \n",
       "57624                37.777416              -122.441838            19.0   \n",
       "112605               37.804562              -122.271738           180.0   \n",
       "\n",
       "                                        end_station_name  \\\n",
       "68951                            Grand Ave at Webster St   \n",
       "89789                                        Ryland Park   \n",
       "68257                          Stanford Ave at Hollis St   \n",
       "166671                          Market St at Franklin St   \n",
       "16395     San Francisco Caltrain (Townsend St at 4th St)   \n",
       "72126                               Market St at 10th St   \n",
       "425                                 24th St at Market St   \n",
       "83637                          Morrison Ave at Julian St   \n",
       "128365                     The Embarcadero at Vallejo St   \n",
       "76781                                  4th St at 16th St   \n",
       "40609                              16th St at Prosper St   \n",
       "181262      Powell St BART Station (Market St at 5th St)   \n",
       "159867                    16th St Mission BART Station 2   \n",
       "157080      Powell St BART Station (Market St at 4th St)   \n",
       "79461                                   5th St at Folsom   \n",
       "64622   Montgomery St BART Station (Market St at 2nd St)   \n",
       "94912                              22nd St at Dolores St   \n",
       "106255                           Beale St at Harrison St   \n",
       "57624                               Post St at Kearny St   \n",
       "112605                          Telegraph Ave at 23rd St   \n",
       "\n",
       "        end_station_latitude     ...      bike_id   user_type  \\\n",
       "68951              37.811377     ...         2471    Customer   \n",
       "89789              37.342725     ...         6346  Subscriber   \n",
       "68257              37.838443     ...         4916  Subscriber   \n",
       "166671             37.773793     ...          283  Subscriber   \n",
       "16395              37.776598     ...         6525  Subscriber   \n",
       "72126              37.776619     ...         5133  Subscriber   \n",
       "425                37.816060     ...         5563  Subscriber   \n",
       "83637              37.333658     ...         3783  Subscriber   \n",
       "128365             37.799953     ...         4713  Subscriber   \n",
       "76781              37.767045     ...         6563    Customer   \n",
       "40609              37.764285     ...         5048  Subscriber   \n",
       "181262             37.783899     ...         4820  Subscriber   \n",
       "159867             37.764765     ...          425  Subscriber   \n",
       "157080             37.786375     ...         5356  Subscriber   \n",
       "79461              37.780146     ...          443  Subscriber   \n",
       "64622              37.789625     ...         4373  Subscriber   \n",
       "94912              37.755000     ...         6527  Subscriber   \n",
       "106255             37.788059     ...         5517  Subscriber   \n",
       "57624              37.788975     ...         5489  Subscriber   \n",
       "112605             37.812678     ...         4703  Subscriber   \n",
       "\n",
       "       member_birth_year  member_gender  start_date       start_time  \\\n",
       "68951                NaN            NaN  2019-02-19  20:37:42.898000   \n",
       "89789             1999.0           Male  2019-02-16  14:35:43.704000   \n",
       "68257             1980.0           Male  2019-02-20  01:59:19.572000   \n",
       "166671            1987.0           Male  2019-02-04  18:23:33.979000   \n",
       "16395             1985.0           Male  2019-02-27  08:37:36.564000   \n",
       "72126             1998.0           Male  2019-02-19  16:50:17.942000   \n",
       "425               1998.0         Female  2019-02-28  21:01:35.486000   \n",
       "83637             1995.0           Male  2019-02-17  21:44:21.458000   \n",
       "128365            1993.0         Female  2019-02-10  13:21:12.622000   \n",
       "76781             1987.0         Female  2019-02-19  07:57:23.215000   \n",
       "40609             1987.0           Male  2019-02-22  19:47:57.878000   \n",
       "181262            1990.0           Male  2019-02-01  09:15:06.985000   \n",
       "159867            1991.0           Male  2019-02-05  17:24:15.013000   \n",
       "157080            1995.0           Male  2019-02-06  06:22:30.220000   \n",
       "79461             1986.0           Male  2019-02-18  17:35:25.101000   \n",
       "64622             1974.0           Male  2019-02-20  11:35:09.702000   \n",
       "94912             1974.0           Male  2019-02-15  15:32:16.163000   \n",
       "106255            1992.0           Male  2019-02-13  18:33:58.209000   \n",
       "57624             1988.0         Female  2019-02-21  07:58:12.530000   \n",
       "112605            1991.0         Female  2019-02-12  14:56:09.785000   \n",
       "\n",
       "       start_weekday    end_date         end_time end_weekday  \n",
       "68951              1  2019-02-19  20:45:13.188000           1  \n",
       "89789              5  2019-02-16  14:44:36.279000           5  \n",
       "68257              2  2019-02-20  02:09:00.025000           2  \n",
       "166671             0  2019-02-04  18:30:58.306000           0  \n",
       "16395              2  2019-02-27  08:41:31.488000           2  \n",
       "72126              1  2019-02-19  17:00:23.693000           1  \n",
       "425                3  2019-02-28  21:35:15.270000           3  \n",
       "83637              6  2019-02-17  21:52:32.171000           6  \n",
       "128365             6  2019-02-10  13:34:04.413000           6  \n",
       "76781              1  2019-02-19  08:08:17.457000           1  \n",
       "40609              4  2019-02-22  20:17:17.502000           4  \n",
       "181262             4  2019-02-01  09:27:50.257000           4  \n",
       "159867             1  2019-02-05  17:43:43.122000           1  \n",
       "157080             2  2019-02-06  06:26:32.643000           2  \n",
       "79461              0  2019-02-18  17:39:05.179000           0  \n",
       "64622              2  2019-02-20  11:41:41.789000           2  \n",
       "94912              4  2019-02-15  15:40:17.902000           4  \n",
       "106255             2  2019-02-13  18:39:38.838000           2  \n",
       "57624              3  2019-02-21  08:15:03.560000           3  \n",
       "112605             1  2019-02-12  15:00:34.295000           1  \n",
       "\n",
       "[20 rows x 21 columns]"
      ]
     },
     "execution_count": 20,
     "metadata": {},
     "output_type": "execute_result"
    }
   ],
   "source": [
    "bike_df.sample(20)"
   ]
  },
  {
   "cell_type": "markdown",
   "metadata": {},
   "source": [
    "Now lets fill in the Nan values in the member_gender and the member_birth_year columns."
   ]
  },
  {
   "cell_type": "code",
   "execution_count": 21,
   "metadata": {},
   "outputs": [
    {
     "data": {
      "text/plain": [
       "Male      130651\n",
       "Female     40844\n",
       "Other       3652\n",
       "Name: member_gender, dtype: int64"
      ]
     },
     "execution_count": 21,
     "metadata": {},
     "output_type": "execute_result"
    }
   ],
   "source": [
    "bike_df.member_gender.value_counts()"
   ]
  },
  {
   "cell_type": "code",
   "execution_count": 22,
   "metadata": {},
   "outputs": [
    {
     "data": {
      "text/plain": [
       "8265"
      ]
     },
     "execution_count": 22,
     "metadata": {},
     "output_type": "execute_result"
    }
   ],
   "source": [
    "bike_df['member_gender'].isna().sum()"
   ]
  },
  {
   "cell_type": "code",
   "execution_count": 23,
   "metadata": {},
   "outputs": [],
   "source": [
    "bike_df['member_gender'] =  bike_df['member_gender'].fillna('Other')"
   ]
  },
  {
   "cell_type": "code",
   "execution_count": 24,
   "metadata": {},
   "outputs": [
    {
     "data": {
      "text/plain": [
       "0"
      ]
     },
     "execution_count": 24,
     "metadata": {},
     "output_type": "execute_result"
    }
   ],
   "source": [
    "bike_df['member_gender'].isna().sum()"
   ]
  },
  {
   "cell_type": "code",
   "execution_count": 25,
   "metadata": {
    "scrolled": true
   },
   "outputs": [
    {
     "data": {
      "text/plain": [
       "Male      130651\n",
       "Female     40844\n",
       "Other      11917\n",
       "Name: member_gender, dtype: int64"
      ]
     },
     "execution_count": 25,
     "metadata": {},
     "output_type": "execute_result"
    }
   ],
   "source": [
    "bike_df.member_gender.value_counts()"
   ]
  },
  {
   "cell_type": "code",
   "execution_count": 26,
   "metadata": {},
   "outputs": [
    {
     "data": {
      "text/plain": [
       "8265"
      ]
     },
     "execution_count": 26,
     "metadata": {},
     "output_type": "execute_result"
    }
   ],
   "source": [
    "bike_df.member_birth_year.isnull().sum()"
   ]
  },
  {
   "cell_type": "code",
   "execution_count": 27,
   "metadata": {},
   "outputs": [
    {
     "data": {
      "text/plain": [
       "175147"
      ]
     },
     "execution_count": 27,
     "metadata": {},
     "output_type": "execute_result"
    }
   ],
   "source": [
    "bike_df.member_birth_year.notnull().sum()"
   ]
  },
  {
   "cell_type": "code",
   "execution_count": 28,
   "metadata": {},
   "outputs": [],
   "source": [
    "bike_df['start_date'] = pd.to_datetime(bike_df['start_date'])\n",
    "bike_df['end_date'] = pd.to_datetime(bike_df['end_date'])\n",
    "#bike_df['member_birth_year'] =bike_df['member_birth_year'].astype(int)"
   ]
  },
  {
   "cell_type": "code",
   "execution_count": 29,
   "metadata": {},
   "outputs": [
    {
     "name": "stdout",
     "output_type": "stream",
     "text": [
      "<class 'pandas.core.frame.DataFrame'>\n",
      "RangeIndex: 183412 entries, 0 to 183411\n",
      "Data columns (total 21 columns):\n",
      "duration_sec               183412 non-null int64\n",
      "start_timestamp            183412 non-null datetime64[ns]\n",
      "end_timestamp              183412 non-null datetime64[ns]\n",
      "start_station_id           183215 non-null float64\n",
      "start_station_name         183215 non-null object\n",
      "start_station_latitude     183412 non-null float64\n",
      "start_station_longitude    183412 non-null float64\n",
      "end_station_id             183215 non-null float64\n",
      "end_station_name           183215 non-null object\n",
      "end_station_latitude       183412 non-null float64\n",
      "end_station_longitude      183412 non-null float64\n",
      "bike_id                    183412 non-null int64\n",
      "user_type                  183412 non-null object\n",
      "member_birth_year          175147 non-null float64\n",
      "member_gender              183412 non-null object\n",
      "start_date                 183412 non-null datetime64[ns]\n",
      "start_time                 183412 non-null object\n",
      "start_weekday              183412 non-null int64\n",
      "end_date                   183412 non-null datetime64[ns]\n",
      "end_time                   183412 non-null object\n",
      "end_weekday                183412 non-null int64\n",
      "dtypes: datetime64[ns](4), float64(7), int64(4), object(6)\n",
      "memory usage: 29.4+ MB\n"
     ]
    }
   ],
   "source": [
    "bike_df.info()"
   ]
  },
  {
   "cell_type": "markdown",
   "metadata": {},
   "source": [
    "And for my last issue, I'm going to create a station dataframe."
   ]
  },
  {
   "cell_type": "code",
   "execution_count": 30,
   "metadata": {},
   "outputs": [
    {
     "data": {
      "text/html": [
       "<div>\n",
       "<style scoped>\n",
       "    .dataframe tbody tr th:only-of-type {\n",
       "        vertical-align: middle;\n",
       "    }\n",
       "\n",
       "    .dataframe tbody tr th {\n",
       "        vertical-align: top;\n",
       "    }\n",
       "\n",
       "    .dataframe thead th {\n",
       "        text-align: right;\n",
       "    }\n",
       "</style>\n",
       "<table border=\"1\" class=\"dataframe\">\n",
       "  <thead>\n",
       "    <tr style=\"text-align: right;\">\n",
       "      <th></th>\n",
       "      <th>station_id</th>\n",
       "      <th>station_name</th>\n",
       "      <th>station_latitude</th>\n",
       "      <th>station_longitude</th>\n",
       "    </tr>\n",
       "  </thead>\n",
       "  <tbody>\n",
       "    <tr>\n",
       "      <th>0</th>\n",
       "      <td>21.0</td>\n",
       "      <td>Montgomery St BART Station (Market St at 2nd St)</td>\n",
       "      <td>37.789625</td>\n",
       "      <td>-122.400811</td>\n",
       "    </tr>\n",
       "    <tr>\n",
       "      <th>1</th>\n",
       "      <td>23.0</td>\n",
       "      <td>The Embarcadero at Steuart St</td>\n",
       "      <td>37.791464</td>\n",
       "      <td>-122.391034</td>\n",
       "    </tr>\n",
       "    <tr>\n",
       "      <th>2</th>\n",
       "      <td>86.0</td>\n",
       "      <td>Market St at Dolores St</td>\n",
       "      <td>37.769305</td>\n",
       "      <td>-122.426826</td>\n",
       "    </tr>\n",
       "    <tr>\n",
       "      <th>3</th>\n",
       "      <td>375.0</td>\n",
       "      <td>Grove St at Masonic Ave</td>\n",
       "      <td>37.774836</td>\n",
       "      <td>-122.446546</td>\n",
       "    </tr>\n",
       "    <tr>\n",
       "      <th>4</th>\n",
       "      <td>7.0</td>\n",
       "      <td>Frank H Ogawa Plaza</td>\n",
       "      <td>37.804562</td>\n",
       "      <td>-122.271738</td>\n",
       "    </tr>\n",
       "  </tbody>\n",
       "</table>\n",
       "</div>"
      ],
      "text/plain": [
       "   station_id                                      station_name  \\\n",
       "0        21.0  Montgomery St BART Station (Market St at 2nd St)   \n",
       "1        23.0                     The Embarcadero at Steuart St   \n",
       "2        86.0                           Market St at Dolores St   \n",
       "3       375.0                           Grove St at Masonic Ave   \n",
       "4         7.0                               Frank H Ogawa Plaza   \n",
       "\n",
       "   station_latitude  station_longitude  \n",
       "0         37.789625        -122.400811  \n",
       "1         37.791464        -122.391034  \n",
       "2         37.769305        -122.426826  \n",
       "3         37.774836        -122.446546  \n",
       "4         37.804562        -122.271738  "
      ]
     },
     "execution_count": 30,
     "metadata": {},
     "output_type": "execute_result"
    }
   ],
   "source": [
    "stations_start = bike_df[bike_df['start_station_id'] != -1][['start_station_id', 'start_station_name', \n",
    "                                                             'start_station_latitude', 'start_station_longitude']]\n",
    "stations_end = bike_df[bike_df['end_station_id'] != -1][['end_station_id', 'end_station_name', \n",
    "                                                             'end_station_latitude', 'end_station_longitude']]\n",
    "stations_start.rename(columns = {'start_station_id':'station_id', 'start_station_name':'station_name', \n",
    "                                 'start_station_latitude': 'station_latitude', \n",
    "                                 'start_station_longitude':'station_longitude'}, inplace = True)\n",
    "stations_end.rename(columns = {'end_station_id':'station_id', 'end_station_name':'station_name', 'end_station_latitude': 'station_latitude', \n",
    "                               'end_station_longitude':'station_longitude'}, inplace = True)\n",
    "stations_df = stations_start.append(stations_end)\n",
    "stations_df.head()"
   ]
  },
  {
   "cell_type": "code",
   "execution_count": 31,
   "metadata": {},
   "outputs": [
    {
     "name": "stdout",
     "output_type": "stream",
     "text": [
      "<class 'pandas.core.frame.DataFrame'>\n",
      "Int64Index: 366824 entries, 0 to 183411\n",
      "Data columns (total 4 columns):\n",
      "station_id           366430 non-null float64\n",
      "station_name         366430 non-null object\n",
      "station_latitude     366824 non-null float64\n",
      "station_longitude    366824 non-null float64\n",
      "dtypes: float64(3), object(1)\n",
      "memory usage: 14.0+ MB\n"
     ]
    }
   ],
   "source": [
    "stations_df.info()"
   ]
  },
  {
   "cell_type": "markdown",
   "metadata": {},
   "source": [
    "## Univariate Exploration\n",
    "\n",
    "> In this section, investigate distributions of individual variables. If\n",
    "you see unusual points or outliers, take a deeper look to clean things up\n",
    "and prepare yourself to look at relationships between variables.\n",
    "\n",
    "\n",
    "> **Rubric Tip**: The project (Parts I alone) should have at least 15 visualizations distributed over univariate, bivariate, and multivariate plots to explore many relationships in the data set.  Use reasoning to justify the flow of the exploration.\n",
    "\n",
    "\n",
    "\n",
    ">**Rubric Tip**: Use the \"Question-Visualization-Observations\" framework  throughout the exploration. This framework involves **asking a question from the data, creating a visualization to find answers, and then recording observations after each visualisation.** \n"
   ]
  },
  {
   "cell_type": "markdown",
   "metadata": {},
   "source": []
  },
  {
   "cell_type": "markdown",
   "metadata": {},
   "source": [
    "I'll start by looking at the distribution of the main variable of interest: duration."
   ]
  },
  {
   "cell_type": "code",
   "execution_count": 32,
   "metadata": {},
   "outputs": [
    {
     "data": {
      "text/plain": [
       "count    183412.000000\n",
       "mean          2.712606\n",
       "std           0.309396\n",
       "min           1.785330\n",
       "25%           2.511883\n",
       "50%           2.710963\n",
       "75%           2.900913\n",
       "max           4.931682\n",
       "Name: duration_sec, dtype: float64"
      ]
     },
     "execution_count": 32,
     "metadata": {},
     "output_type": "execute_result"
    }
   ],
   "source": [
    "#To begin with let's have a look at the durations via a log \n",
    "duration_log = bike_df['duration_sec'].apply(np.log10)\n",
    "duration_log.describe()\n"
   ]
  },
  {
   "cell_type": "code",
   "execution_count": 58,
   "metadata": {},
   "outputs": [
    {
     "data": {
      "image/png": "[encoded data removed]",
      "text/plain": [
       "<matplotlib.figure.Figure at 0x7f6bf8684cc0>"
      ]
     },
     "metadata": {
      "needs_background": "light"
     },
     "output_type": "display_data"
    }
   ],
   "source": [
    "# Lets plot a histogram depicting the duration_log\n",
    "bins = np.arange(1, duration_log.max()+0.1, 0.1)\n",
    "\n",
    "plt.hist(data = duration_log, x = duration_log, bins=bins);\n",
    "plt.title(\"Log Transformed Distribution of Bike Share in Seconds\");\n"
   ]
  },
  {
   "cell_type": "markdown",
   "metadata": {},
   "source": [
    "The log of the the durration is skewed in the middle. It does look like the highest numbers are between 150 seconds (2 min, 50 sec) and 2000 seconds (33 min, 40 sec). It seems the bikes are mostly being used for commercial purposes rather than for leisure purposes due to the short duration of time being set all through by the users. "
   ]
  },
  {
   "cell_type": "code",
   "execution_count": 34,
   "metadata": {},
   "outputs": [],
   "source": [
    "# Since I intend to generate a lot of scatter plots, lets generate a function \n",
    "\n",
    "def myCountPlot(df,xVar):\n",
    "    \n",
    "    #set plot dimensions\n",
    "    plt.figure (figsize = [8,8])\n",
    "    \n",
    "    #Set color\n",
    "    base_color = sb.color_palette()[0]\n",
    "    #plot\n",
    "    sb.countplot(data=df,x=xVar,color=base_color);\n",
    "    \n",
    "    #Add title and format it\n",
    "    plt.title(f'''Distribution of {xVar}'''.title(), fontsize=14, weight='bold')\n",
    "    \n",
    "    #Add x label and format it\n",
    "    plt.xlabel(xVar.title(), fontsize=10, weight='bold')\n",
    "    \n",
    "    #Add y label and format it\n",
    "    plt.ylabel('Frequency'.title(), fontsize=10, weight='bold')\n",
    "\n"
   ]
  },
  {
   "cell_type": "code",
   "execution_count": 35,
   "metadata": {},
   "outputs": [
    {
     "data": {
      "image/png": "[encoded data removed]",
      "text/plain": [
       "<matplotlib.figure.Figure at 0x7f6bfed273c8>"
      ]
     },
     "metadata": {
      "needs_background": "light"
     },
     "output_type": "display_data"
    }
   ],
   "source": [
    "# Lets now plot a bar graph of the member_genders from the dataset.\n",
    "\n",
    "myCountPlot(bike_df, \"member_gender\" )\n",
    "\n"
   ]
  },
  {
   "cell_type": "markdown",
   "metadata": {},
   "source": [
    "We can tell that the male gender has the highest counts depicting how frequently they use the bikes. The count is later followed by the female gender and eventually the others whose genders was not specified or included in the dataset."
   ]
  },
  {
   "cell_type": "markdown",
   "metadata": {},
   "source": [
    "Let's also have a closer look about the user_type using a bar graph.  "
   ]
  },
  {
   "cell_type": "code",
   "execution_count": 36,
   "metadata": {
    "scrolled": true
   },
   "outputs": [
    {
     "data": {
      "image/png": "[encoded data removed]",
      "text/plain": [
       "<matplotlib.figure.Figure at 0x7f6bf9c54518>"
      ]
     },
     "metadata": {
      "needs_background": "light"
     },
     "output_type": "display_data"
    }
   ],
   "source": [
    "# Lets now plot a bar graph of the user_type from the dataset.\n",
    "myCountPlot(bike_df, \"user_type\" )\n"
   ]
  },
  {
   "cell_type": "markdown",
   "metadata": {},
   "source": [
    "It appears that the number of subscribers that use the bikes are more than the customers. "
   ]
  },
  {
   "cell_type": "markdown",
   "metadata": {},
   "source": [
    "Lets also have a good picture on the start_weekdays using a bar graph."
   ]
  },
  {
   "cell_type": "code",
   "execution_count": 37,
   "metadata": {
    "scrolled": false
   },
   "outputs": [
    {
     "data": {
      "text/plain": [
       "array(['Thursday', 'Wednesday', 'Tuesday', 'Monday', 'Sunday', 'Saturday',\n",
       "       'Friday'], dtype=object)"
      ]
     },
     "execution_count": 37,
     "metadata": {},
     "output_type": "execute_result"
    }
   ],
   "source": [
    "days_of_week = bike_df['start_date'].dt.day_name()\n",
    "\n",
    "bike_df['start_weekday'] = bike_df['start_date'].dt.day_name()\n",
    "bike_df['end_weekday'] = bike_df['end_date'].dt.day_name()\n",
    "bike_df.start_weekday.unique()"
   ]
  },
  {
   "cell_type": "code",
   "execution_count": 38,
   "metadata": {},
   "outputs": [],
   "source": [
    "# convert start_weekday and end_weekday into ordered categorical types\n",
    "ordinal_var_dict = {'start_weekday': ['Sunday','Monday','Tuesday','Wednesday','Thursday', 'Friday', 'Saturday'],\n",
    "                    'end_weekday': ['Sunday','Monday','Tuesday','Wednesday','Thursday', 'Friday', 'Saturday']}\n",
    "\n",
    "for var in ordinal_var_dict:\n",
    "    ordered_var = pd.api.types.CategoricalDtype(ordered = True,\n",
    "                                                categories = ordinal_var_dict[var])\n",
    "    bike_df[var] = bike_df[var].astype(ordered_var)"
   ]
  },
  {
   "cell_type": "code",
   "execution_count": 39,
   "metadata": {},
   "outputs": [
    {
     "data": {
      "image/png": "[encoded data removed]",
      "text/plain": [
       "<matplotlib.figure.Figure at 0x7f6bf9ec74a8>"
      ]
     },
     "metadata": {
      "needs_background": "light"
     },
     "output_type": "display_data"
    }
   ],
   "source": [
    "#Now lets plot the distribution of the Start_Weekday \n",
    "\n",
    "myCountPlot(bike_df, \"start_weekday\" )\n",
    "\n"
   ]
  },
  {
   "cell_type": "raw",
   "metadata": {},
   "source": []
  },
  {
   "cell_type": "markdown",
   "metadata": {},
   "source": [
    "According to the bar chart above, Thursday signifies a large influx of bikes used. Therefore, it seems a lot of people in the Bay region use the bikes more often on Thursdays than any other day of the week. Saturdays and Sundays having the least bike usage. We will dive deeper and see if this is the case. \n",
    "\n",
    "Now that we know the start_weekday lets also have the end_weekday and see the relationship."
   ]
  },
  {
   "cell_type": "code",
   "execution_count": 40,
   "metadata": {},
   "outputs": [
    {
     "data": {
      "image/png": "[encoded data removed]",
      "text/plain": [
       "<matplotlib.figure.Figure at 0x7f6bf7fb8198>"
      ]
     },
     "metadata": {
      "needs_background": "light"
     },
     "output_type": "display_data"
    }
   ],
   "source": [
    "#Now lets plot the distribution of th end_Weekday\n",
    "\n",
    "myCountPlot(bike_df, \"end_weekday\" )"
   ]
  },
  {
   "cell_type": "markdown",
   "metadata": {},
   "source": [
    "So it seems the projection is the same and the end_weekday that is very busy is on Thursday, followed by Tuesday, Wednesday, Friday, Monday and eventually Sunday and Saturday."
   ]
  },
  {
   "cell_type": "markdown",
   "metadata": {},
   "source": [
    "### Discuss the distribution(s) of your variable(s) of interest. Were there any unusual points? Did you need to perform any transformations?\n",
    "\n",
    "> The distribution variable took on a large range of values, so I looked at the data using a log transform. Under the transformation, the data looked unimodal, with the highest numbers are between 100 seconds (1 min, 40 sec) and 1000 seconds (16 min, 40 sec).\n",
    "\n",
    "### Of the features you investigated, were there any unusual distributions? Did you perform any operations on the data to tidy, adjust, or change the form of the data? If so, why did you do this?\n",
    "\n",
    "> When investigating the dataset variables, a number of data wrangling had to be done to try and clean up the dataset. The task list included;\n",
    "1.\tChange start and end times to date time.\n",
    "2.\tGet the data, time, and day of the week into seperate columns (I will have to change the original column title from time to time_stamp).\n",
    "3.\tFill in the Nan values in the member_gender column.\n",
    "4.\tCreate a dataframe with the station data (for easy look up of data).\n",
    "\n",
    "> All of these tasks were performed from the dataset to be able to move forward.\n"
   ]
  },
  {
   "cell_type": "markdown",
   "metadata": {},
   "source": [
    "## Bivariate Exploration\n",
    "\n",
    "\n",
    "> To start off with, I want to look at the pairwise correlations present between features in the data."
   ]
  },
  {
   "cell_type": "code",
   "execution_count": 41,
   "metadata": {},
   "outputs": [],
   "source": [
    "# lets plot a scatterplot to see the relationship between 2 quantitative variables, the duration_sec and the age of the riders."
   ]
  },
  {
   "cell_type": "code",
   "execution_count": 42,
   "metadata": {},
   "outputs": [
    {
     "data": {
      "text/plain": [
       "1988.0    10236\n",
       "1993.0     9325\n",
       "1989.0     8972\n",
       "1990.0     8658\n",
       "1991.0     8498\n",
       "1992.0     8250\n",
       "1987.0     8018\n",
       "1986.0     7973\n",
       "1994.0     7660\n",
       "1995.0     7423\n",
       "1985.0     7028\n",
       "1984.0     6562\n",
       "1983.0     5954\n",
       "1980.0     5024\n",
       "1982.0     4990\n",
       "1996.0     4640\n",
       "1981.0     4345\n",
       "1979.0     3756\n",
       "1997.0     3481\n",
       "1998.0     3208\n",
       "1978.0     2830\n",
       "1977.0     2725\n",
       "1974.0     2633\n",
       "1999.0     2528\n",
       "1975.0     2503\n",
       "1976.0     2442\n",
       "1973.0     2080\n",
       "1968.0     1928\n",
       "1971.0     1924\n",
       "1972.0     1909\n",
       "          ...  \n",
       "1954.0      301\n",
       "1952.0      189\n",
       "1951.0      180\n",
       "1950.0      178\n",
       "1953.0      158\n",
       "1947.0      135\n",
       "1955.0      134\n",
       "1945.0      105\n",
       "1949.0       99\n",
       "1931.0       89\n",
       "1900.0       53\n",
       "1948.0       51\n",
       "2001.0       34\n",
       "1943.0       30\n",
       "1942.0       21\n",
       "1933.0       20\n",
       "1946.0       19\n",
       "1902.0       11\n",
       "1939.0       11\n",
       "1941.0        9\n",
       "1901.0        6\n",
       "1938.0        3\n",
       "1920.0        3\n",
       "1934.0        2\n",
       "1944.0        2\n",
       "1930.0        1\n",
       "1910.0        1\n",
       "1927.0        1\n",
       "1928.0        1\n",
       "1878.0        1\n",
       "Name: member_birth_year, Length: 75, dtype: int64"
      ]
     },
     "execution_count": 42,
     "metadata": {},
     "output_type": "execute_result"
    }
   ],
   "source": [
    "# Since we have the member_birth_years, let's find their ages for easy visualization.\n",
    "\n",
    "# First let's drop the unique birthvalue -9223372036854775808 which must have been filled in mistakenly.\n",
    "\n",
    "bike_df = bike_df[bike_df.member_birth_year !=-9223372036854775808]\n",
    "\n",
    "bike_df['member_birth_year'].value_counts()"
   ]
  },
  {
   "cell_type": "code",
   "execution_count": 43,
   "metadata": {},
   "outputs": [],
   "source": [
    "col = bike_df['member_birth_year']\n",
    "\n",
    "bike_df['age'] =2022 -  bike_df['member_birth_year']\n",
    "    "
   ]
  },
  {
   "cell_type": "code",
   "execution_count": 44,
   "metadata": {},
   "outputs": [
    {
     "data": {
      "text/html": [
       "<div>\n",
       "<style scoped>\n",
       "    .dataframe tbody tr th:only-of-type {\n",
       "        vertical-align: middle;\n",
       "    }\n",
       "\n",
       "    .dataframe tbody tr th {\n",
       "        vertical-align: top;\n",
       "    }\n",
       "\n",
       "    .dataframe thead th {\n",
       "        text-align: right;\n",
       "    }\n",
       "</style>\n",
       "<table border=\"1\" class=\"dataframe\">\n",
       "  <thead>\n",
       "    <tr style=\"text-align: right;\">\n",
       "      <th></th>\n",
       "      <th>duration_sec</th>\n",
       "      <th>start_timestamp</th>\n",
       "      <th>end_timestamp</th>\n",
       "      <th>start_station_id</th>\n",
       "      <th>start_station_name</th>\n",
       "      <th>start_station_latitude</th>\n",
       "      <th>start_station_longitude</th>\n",
       "      <th>end_station_id</th>\n",
       "      <th>end_station_name</th>\n",
       "      <th>end_station_latitude</th>\n",
       "      <th>...</th>\n",
       "      <th>user_type</th>\n",
       "      <th>member_birth_year</th>\n",
       "      <th>member_gender</th>\n",
       "      <th>start_date</th>\n",
       "      <th>start_time</th>\n",
       "      <th>start_weekday</th>\n",
       "      <th>end_date</th>\n",
       "      <th>end_time</th>\n",
       "      <th>end_weekday</th>\n",
       "      <th>age</th>\n",
       "    </tr>\n",
       "  </thead>\n",
       "  <tbody>\n",
       "    <tr>\n",
       "      <th>157884</th>\n",
       "      <td>775</td>\n",
       "      <td>2019-02-05 20:13:38.451</td>\n",
       "      <td>2019-02-05 20:26:34.277</td>\n",
       "      <td>350.0</td>\n",
       "      <td>8th St at Brannan St</td>\n",
       "      <td>37.771431</td>\n",
       "      <td>-122.405787</td>\n",
       "      <td>139.0</td>\n",
       "      <td>Garfield Square (25th St at Harrison St)</td>\n",
       "      <td>37.751017</td>\n",
       "      <td>...</td>\n",
       "      <td>Subscriber</td>\n",
       "      <td>1995.0</td>\n",
       "      <td>Male</td>\n",
       "      <td>2019-02-05</td>\n",
       "      <td>20:13:38.451000</td>\n",
       "      <td>Tuesday</td>\n",
       "      <td>2019-02-05</td>\n",
       "      <td>20:26:34.277000</td>\n",
       "      <td>Tuesday</td>\n",
       "      <td>27.0</td>\n",
       "    </tr>\n",
       "    <tr>\n",
       "      <th>13284</th>\n",
       "      <td>390</td>\n",
       "      <td>2019-02-27 16:32:07.431</td>\n",
       "      <td>2019-02-27 16:38:37.531</td>\n",
       "      <td>126.0</td>\n",
       "      <td>Esprit Park</td>\n",
       "      <td>37.761634</td>\n",
       "      <td>-122.390648</td>\n",
       "      <td>81.0</td>\n",
       "      <td>Berry St at 4th St</td>\n",
       "      <td>37.775880</td>\n",
       "      <td>...</td>\n",
       "      <td>Subscriber</td>\n",
       "      <td>1987.0</td>\n",
       "      <td>Female</td>\n",
       "      <td>2019-02-27</td>\n",
       "      <td>16:32:07.431000</td>\n",
       "      <td>Wednesday</td>\n",
       "      <td>2019-02-27</td>\n",
       "      <td>16:38:37.531000</td>\n",
       "      <td>Wednesday</td>\n",
       "      <td>35.0</td>\n",
       "    </tr>\n",
       "    <tr>\n",
       "      <th>78919</th>\n",
       "      <td>166</td>\n",
       "      <td>2019-02-18 18:28:53.917</td>\n",
       "      <td>2019-02-18 18:31:40.038</td>\n",
       "      <td>150.0</td>\n",
       "      <td>Adeline St at 40th St</td>\n",
       "      <td>37.831277</td>\n",
       "      <td>-122.278267</td>\n",
       "      <td>213.0</td>\n",
       "      <td>32nd St at Adeline St</td>\n",
       "      <td>37.823847</td>\n",
       "      <td>...</td>\n",
       "      <td>Subscriber</td>\n",
       "      <td>1991.0</td>\n",
       "      <td>Male</td>\n",
       "      <td>2019-02-18</td>\n",
       "      <td>18:28:53.917000</td>\n",
       "      <td>Monday</td>\n",
       "      <td>2019-02-18</td>\n",
       "      <td>18:31:40.038000</td>\n",
       "      <td>Monday</td>\n",
       "      <td>31.0</td>\n",
       "    </tr>\n",
       "    <tr>\n",
       "      <th>111264</th>\n",
       "      <td>253</td>\n",
       "      <td>2019-02-12 17:18:24.039</td>\n",
       "      <td>2019-02-12 17:22:37.616</td>\n",
       "      <td>223.0</td>\n",
       "      <td>16th St Mission BART Station 2</td>\n",
       "      <td>37.764765</td>\n",
       "      <td>-122.420091</td>\n",
       "      <td>120.0</td>\n",
       "      <td>Mission Dolores Park</td>\n",
       "      <td>37.761420</td>\n",
       "      <td>...</td>\n",
       "      <td>Subscriber</td>\n",
       "      <td>1980.0</td>\n",
       "      <td>Female</td>\n",
       "      <td>2019-02-12</td>\n",
       "      <td>17:18:24.039000</td>\n",
       "      <td>Tuesday</td>\n",
       "      <td>2019-02-12</td>\n",
       "      <td>17:22:37.616000</td>\n",
       "      <td>Tuesday</td>\n",
       "      <td>42.0</td>\n",
       "    </tr>\n",
       "    <tr>\n",
       "      <th>109666</th>\n",
       "      <td>611</td>\n",
       "      <td>2019-02-12 18:43:10.511</td>\n",
       "      <td>2019-02-12 18:53:21.720</td>\n",
       "      <td>22.0</td>\n",
       "      <td>Howard St at Beale St</td>\n",
       "      <td>37.789756</td>\n",
       "      <td>-122.394643</td>\n",
       "      <td>92.0</td>\n",
       "      <td>Mission Bay Kids Park</td>\n",
       "      <td>37.772301</td>\n",
       "      <td>...</td>\n",
       "      <td>Subscriber</td>\n",
       "      <td>1986.0</td>\n",
       "      <td>Male</td>\n",
       "      <td>2019-02-12</td>\n",
       "      <td>18:43:10.511000</td>\n",
       "      <td>Tuesday</td>\n",
       "      <td>2019-02-12</td>\n",
       "      <td>18:53:21.720000</td>\n",
       "      <td>Tuesday</td>\n",
       "      <td>36.0</td>\n",
       "    </tr>\n",
       "  </tbody>\n",
       "</table>\n",
       "<p>5 rows × 22 columns</p>\n",
       "</div>"
      ],
      "text/plain": [
       "        duration_sec         start_timestamp           end_timestamp  \\\n",
       "157884           775 2019-02-05 20:13:38.451 2019-02-05 20:26:34.277   \n",
       "13284            390 2019-02-27 16:32:07.431 2019-02-27 16:38:37.531   \n",
       "78919            166 2019-02-18 18:28:53.917 2019-02-18 18:31:40.038   \n",
       "111264           253 2019-02-12 17:18:24.039 2019-02-12 17:22:37.616   \n",
       "109666           611 2019-02-12 18:43:10.511 2019-02-12 18:53:21.720   \n",
       "\n",
       "        start_station_id              start_station_name  \\\n",
       "157884             350.0            8th St at Brannan St   \n",
       "13284              126.0                     Esprit Park   \n",
       "78919              150.0           Adeline St at 40th St   \n",
       "111264             223.0  16th St Mission BART Station 2   \n",
       "109666              22.0           Howard St at Beale St   \n",
       "\n",
       "        start_station_latitude  start_station_longitude  end_station_id  \\\n",
       "157884               37.771431              -122.405787           139.0   \n",
       "13284                37.761634              -122.390648            81.0   \n",
       "78919                37.831277              -122.278267           213.0   \n",
       "111264               37.764765              -122.420091           120.0   \n",
       "109666               37.789756              -122.394643            92.0   \n",
       "\n",
       "                                end_station_name  end_station_latitude  ...   \\\n",
       "157884  Garfield Square (25th St at Harrison St)             37.751017  ...    \n",
       "13284                         Berry St at 4th St             37.775880  ...    \n",
       "78919                      32nd St at Adeline St             37.823847  ...    \n",
       "111264                      Mission Dolores Park             37.761420  ...    \n",
       "109666                     Mission Bay Kids Park             37.772301  ...    \n",
       "\n",
       "         user_type  member_birth_year member_gender  start_date  \\\n",
       "157884  Subscriber             1995.0          Male  2019-02-05   \n",
       "13284   Subscriber             1987.0        Female  2019-02-27   \n",
       "78919   Subscriber             1991.0          Male  2019-02-18   \n",
       "111264  Subscriber             1980.0        Female  2019-02-12   \n",
       "109666  Subscriber             1986.0          Male  2019-02-12   \n",
       "\n",
       "             start_time start_weekday   end_date         end_time end_weekday  \\\n",
       "157884  20:13:38.451000       Tuesday 2019-02-05  20:26:34.277000     Tuesday   \n",
       "13284   16:32:07.431000     Wednesday 2019-02-27  16:38:37.531000   Wednesday   \n",
       "78919   18:28:53.917000        Monday 2019-02-18  18:31:40.038000      Monday   \n",
       "111264  17:18:24.039000       Tuesday 2019-02-12  17:22:37.616000     Tuesday   \n",
       "109666  18:43:10.511000       Tuesday 2019-02-12  18:53:21.720000     Tuesday   \n",
       "\n",
       "         age  \n",
       "157884  27.0  \n",
       "13284   35.0  \n",
       "78919   31.0  \n",
       "111264  42.0  \n",
       "109666  36.0  \n",
       "\n",
       "[5 rows x 22 columns]"
      ]
     },
     "execution_count": 44,
     "metadata": {},
     "output_type": "execute_result"
    }
   ],
   "source": [
    "bike_df.sample(5)"
   ]
  },
  {
   "cell_type": "code",
   "execution_count": 45,
   "metadata": {},
   "outputs": [
    {
     "data": {
      "image/png": "[encoded data removed]",
      "text/plain": [
       "<matplotlib.figure.Figure at 0x7f6bf8fd46a0>"
      ]
     },
     "metadata": {
      "needs_background": "light"
     },
     "output_type": "display_data"
    }
   ],
   "source": [
    "# Now lets plot the scatterplot.\n",
    "\n",
    "sb.regplot(data = bike_df, x = 'age', y = 'duration_sec', fit_reg= False );\n",
    "plt.xlabel('Member Age')\n",
    "plt.ylabel('Duration (sec)');"
   ]
  },
  {
   "cell_type": "markdown",
   "metadata": {},
   "source": [
    "According to the above scatter plot, it is evident that most people who are from the ages of 20 to 60 years tend to ride bikes more and most of them concentrate to an average of 0 to 20000 counts.  \n",
    "\n",
    "Now lets try and jitter the scatterplot to have a clearer visual on the relationship between duration and the member birth year. "
   ]
  },
  {
   "cell_type": "code",
   "execution_count": 46,
   "metadata": {},
   "outputs": [
    {
     "data": {
      "image/png": "[encoded data removed]",
      "text/plain": [
       "<matplotlib.figure.Figure at 0x7f6bf8ff80b8>"
      ]
     },
     "metadata": {
      "needs_background": "light"
     },
     "output_type": "display_data"
    }
   ],
   "source": [
    "sb.regplot(data = bike_df, x = 'age', y = 'duration_sec', x_jitter= 8 );\n",
    "plt.xlabel('Member Age')\n",
    "plt.ylabel('Duration (sec)');"
   ]
  },
  {
   "cell_type": "markdown",
   "metadata": {},
   "source": [
    "We can now see a better distribution of the age between 20 years to slightly above 60 years, the value_count is raising above the 20000 mark hence signifying that bike share market category is to the youth in the San-Francisco Bay area. There are also a number of outliers of people who are above 80 years which I believe is as a result of the riders who did not fill in their birth year or the birth years where filled in incorrectly due to human error."
   ]
  },
  {
   "cell_type": "code",
   "execution_count": 47,
   "metadata": {},
   "outputs": [
    {
     "data": {
      "image/png": "[encoded data removed]",
      "text/plain": [
       "<matplotlib.figure.Figure at 0x7f6bf883c4a8>"
      ]
     },
     "metadata": {
      "needs_background": "light"
     },
     "output_type": "display_data"
    }
   ],
   "source": [
    "# Lets plot an adaptive barplot and pointplot barchart to see how the average duration_sec relates to the start_weekdays\n",
    "\n",
    "sb.pointplot(data= bike_df, x = 'start_weekday', y = 'duration_sec', ci='sd', linestyles = \"\" );\n",
    "plt.xticks(rotation = 15) \n",
    "plt.ylim([0, 1500])\n",
    "plt.ylabel('Avg. Duration (sec)');\n",
    "\n"
   ]
  },
  {
   "cell_type": "markdown",
   "metadata": {},
   "source": [
    "Having introduced the start_weekday bar graph in the univariate variables, Thursday seemed to be the busiest day of the week. In this adaptive bar plot that we have just plotted opposes the case and states that the average duration time is more pronounced on the weekends which is on Saturday and Sunday with an average duration time of 950 seconds. The least is on Tuesday with an average duration time of 650 seconds. \n",
    "\n",
    "This signifies that most people opt to ride the bikes on the weekends more than the weekdays. "
   ]
  },
  {
   "cell_type": "code",
   "execution_count": 60,
   "metadata": {},
   "outputs": [
    {
     "data": {
      "image/png": "[encoded data removed]",
      "text/plain": [
       "<matplotlib.figure.Figure at 0x7f6bf78cde10>"
      ]
     },
     "metadata": {
      "needs_background": "light"
     },
     "output_type": "display_data"
    }
   ],
   "source": [
    "# Now lets plot a Violin plot to see the relationships between a qualitative and a quantitative variable; the member_gender and the age \n",
    "\n",
    "plt.figure(figsize=(12,10))\n",
    "base_color = sb.color_palette()[0]\n",
    "plt.title('A Violin plot of age againist member_gender')\n",
    "sb.violinplot(data= bike_df, y='member_gender', x='age', color=base_color, inner=None);\n",
    "\n"
   ]
  },
  {
   "cell_type": "markdown",
   "metadata": {},
   "source": [
    "Oops! the violin plot doesn't seem to have a clear visual of the age againist the member_gender though we can tell that both genders range from age 20 to 60 years. "
   ]
  },
  {
   "cell_type": "code",
   "execution_count": 49,
   "metadata": {},
   "outputs": [
    {
     "data": {
      "image/png": "[encoded data removed]",
      "text/plain": [
       "<matplotlib.figure.Figure at 0x7f6bf8875828>"
      ]
     },
     "metadata": {
      "needs_background": "light"
     },
     "output_type": "display_data"
    }
   ],
   "source": [
    "# Now lets try ploting a boxplot of the same variables as our previous violin plot\n",
    "plt.figure(figsize=(12,10))\n",
    "plt.xlim([0, 120])\n",
    "plt.title('A Boxplot of age againist member_gender')\n",
    "base_color = sb.color_palette()[0]\n",
    "sb.boxplot(data= bike_df, y='member_gender', x='age', color=base_color);"
   ]
  },
  {
   "cell_type": "markdown",
   "metadata": {},
   "source": [
    "From the violin and the boxplot above we can deduct that the genders both male and female together with the others are mostly 20-60 years old. The minimum age of the member genders in both male and female is 20 years. The maximum ages are ranging at 56-60 years, and the median of the ages are ranging at 30-39 years. There are a number of outliers indicating some bike riders who are over 100 years and they must be quite elderly. The big reason again is due to human error while filling in the ages or the rider decided not to provide his/her year of birth."
   ]
  },
  {
   "cell_type": "code",
   "execution_count": 50,
   "metadata": {},
   "outputs": [
    {
     "data": {
      "image/png": "[encoded data removed]",
      "text/plain": [
       "<matplotlib.figure.Figure at 0x7f6bf8d0e780>"
      ]
     },
     "metadata": {
      "needs_background": "light"
     },
     "output_type": "display_data"
    }
   ],
   "source": [
    "# Lets also try plotting a boxplot to show the relationship between the member_gender and the duration_sec. \n",
    "plt.figure(figsize=(12,6))\n",
    "plt.xlim([0, 2000])\n",
    "base_color = sb.color_palette()[0]\n",
    "sb.boxplot(data= bike_df, y='member_gender', x='duration_sec', color=base_color);"
   ]
  },
  {
   "cell_type": "markdown",
   "metadata": {},
   "source": [
    "The 'other' variable in the member_gender seem to be having the highest maximum duration in seconds of the bike time used followed by the female and finally the male gender. The median duration in seconds is significantly higher in the female gender as compared to the male gender and the same applies to the 1st and 2nd quartile. \n",
    "\n",
    "Generally, if we compare the female to male gender, the female gender had a higher cycling duration time than the male gender."
   ]
  },
  {
   "cell_type": "code",
   "execution_count": 51,
   "metadata": {},
   "outputs": [
    {
     "data": {
      "image/png": "[encoded data removed]",
      "text/plain": [
       "<matplotlib.figure.Figure at 0x7f6bf88e94e0>"
      ]
     },
     "metadata": {
      "needs_background": "light"
     },
     "output_type": "display_data"
    }
   ],
   "source": [
    "#Now lets plot a clustered bar chart to show the relationship between the user_type and the member_gender.\n",
    "\n",
    "sb.countplot(data = bike_df, x = 'member_gender', hue = 'user_type');"
   ]
  },
  {
   "cell_type": "markdown",
   "metadata": {},
   "source": [
    "Acording to the clustered bar chart, the male gender has a higher customer and subscriber value count more than the female and the 'other' in the member_gender.\n",
    "Therefore, the male gender tend to be the best gender to target the Fordbike market share in terms of capitalizing on maximum profits. "
   ]
  },
  {
   "cell_type": "markdown",
   "metadata": {},
   "source": [
    "### Talk about some of the relationships you observed in this part of the investigation. How did the feature(s) of interest vary with other features in the dataset?\n",
    "\n",
    "> The duration has played suprisingly high corelation with the age of the members where by the younger the age the higher the duration in which the riders took with the bikes. After having a look at which the genders relate with the age factor. The men show a wider range of distributed years with the youngest at 20 years and the eldest at 60 years while the female gender spreads from 20 years of age to 55 years of age. \n",
    "\n",
    "> The duration has also corelated with the categorical variable, 'start weekday'. The weekends had the highest duration in which the Fordbikes were used. Saturday and Sunday had an average duration time of 950 seconds. The least was on Tuesday with an average duration time of 650 seconds.  \n",
    "\n",
    "### Did you observe any interesting relationships between the other features (not the main feature(s) of interest)?\n",
    "\n",
    "> The same relationship that the start_weekday has is the same effect that the end_weekday has. Therefore, we will just pick one categorical variable from the two which is the start_weekday and not explore further with the end_weekday.  "
   ]
  },
  {
   "cell_type": "markdown",
   "metadata": {},
   "source": [
    "## Multivariate Exploration\n",
    "\n",
    "> The main thing I want to explore in this part of the analysis is how the three categorical measures of start_weekday, user_type, member_gender play into the relationship between duration and age."
   ]
  },
  {
   "cell_type": "code",
   "execution_count": 66,
   "metadata": {},
   "outputs": [
    {
     "data": {
      "image/png": "[encoded data removed]",
      "text/plain": [
       "<matplotlib.figure.Figure at 0x7f6bf9c60be0>"
      ]
     },
     "metadata": {
      "needs_background": "light"
     },
     "output_type": "display_data"
    }
   ],
   "source": [
    "#lets plot a multivariate scatter plot to show the recemblance between the duration, member_age and the user_type. \n",
    "\n",
    "g = sb.FacetGrid(data = bike_df, hue = 'user_type', \n",
    "                 hue_order = ['Customer', 'Subscriber'],size = 6, aspect= 1.5)\n",
    "\n",
    "g.map(sb.regplot, 'age', 'duration_sec', x_jitter= 8, fit_reg = False);\n",
    "g.add_legend()\n",
    "plt.title('A Faceted Point Plot Of Age Againist Duration With Usert_type'.title(), fontsize=10, weight='bold')\n",
    "plt.xlabel('Member Age'.title(), fontsize=10, weight='bold')\n",
    "plt.ylabel('Duration (sec)'.title(), fontsize=10, weight='bold');"
   ]
  },
  {
   "cell_type": "markdown",
   "metadata": {},
   "source": [
    "The scatterplot depicts that subscribers are more than the customers. Most subscribers are from the ages 15 years to 80 years and most of them have a bike duration time of 120 to 15000 seconds. Besides the customers being lesser in the numbers, the bigger number ranges between 15 years and 80 years."
   ]
  },
  {
   "cell_type": "code",
   "execution_count": 67,
   "metadata": {},
   "outputs": [
    {
     "data": {
      "image/png": "[encoded data removed]",
      "text/plain": [
       "<matplotlib.figure.Figure at 0x7f6bf87d2940>"
      ]
     },
     "metadata": {
      "needs_background": "light"
     },
     "output_type": "display_data"
    }
   ],
   "source": [
    "# Now let's plot an odered variable and see the correlation between the duration_sec, member_age and the start_weekday\n",
    "\n",
    "g = sb.FacetGrid(data = bike_df, hue = 'start_weekday', \n",
    "                 palette= 'viridis_r', size = 6, aspect= 1.5)\n",
    "\n",
    "g.map(sb.regplot, 'age', 'duration_sec', x_jitter= 8, fit_reg = False);\n",
    "g.add_legend()\n",
    "plt.title('A Faceted Point Plot Of Age Againist Duration With Start_Weekday'.title(), fontsize=10, weight='bold')\n",
    "plt.xlabel('Member Age'.title(), fontsize=10, weight='bold')\n",
    "plt.ylabel('Duration (sec)'.title(), fontsize=10, weight='bold');\n"
   ]
  },
  {
   "cell_type": "markdown",
   "metadata": {},
   "source": [
    "From the scatter plot, the weekends (Saturday and Sunday) are quite busy with most of the bike riders ranging from the age of 15 years to around 70 years of age and a duration time of not more than 16000 seconds. "
   ]
  },
  {
   "cell_type": "code",
   "execution_count": 54,
   "metadata": {},
   "outputs": [
    {
     "data": {
      "image/png": "[encoded data removed]",
      "text/plain": [
       "<matplotlib.figure.Figure at 0x7f6bf9f24b00>"
      ]
     },
     "metadata": {
      "needs_background": "light"
     },
     "output_type": "display_data"
    }
   ],
   "source": [
    "# Lets dive a little deeper and have a magnified look on the correlation between the start_weekday, user_type, duration_sec, andthe member_gender.\n",
    "\n",
    "# For this we will plot a double rowed faceted boxplot with the user_type depicting the rows.\n",
    "\n",
    "g = sb.FacetGrid(data = bike_df, col = 'start_weekday', row = 'user_type', margin_titles = True)\n",
    "plt.xlim([0, 2000])\n",
    "g.map(sb.boxplot, 'duration_sec', 'member_gender');"
   ]
  },
  {
   "cell_type": "markdown",
   "metadata": {},
   "source": [
    "According to the above boxplot, the female customers on Sunday had the highest duration with over 2000 seconds. The female customers also had the highest median and the highest 1st and 3rd quartiles. The subscribers seem to be maintaining the same medians across all genders with a slight rise on the male subscribers on the Saturday.The female gender once again has the highest maximum duration in seconds on Sunday and the male gender on Saturday in the subscribers row.   "
   ]
  },
  {
   "cell_type": "code",
   "execution_count": 64,
   "metadata": {},
   "outputs": [
    {
     "data": {
      "image/png": "[encoded data removed]",
      "text/plain": [
       "<matplotlib.figure.Figure at 0x7f6bf8349ac8>"
      ]
     },
     "metadata": {
      "needs_background": "light"
     },
     "output_type": "display_data"
    }
   ],
   "source": [
    "# Lets plot an adaptive pointplot to see how the average duration_sec relates to the start_weekdays and the member_gender.\n",
    "\n",
    "plt.figure(figsize=(12,6))\n",
    "sb.pointplot(data= bike_df, x = 'start_weekday', y = 'duration_sec', hue = 'member_gender',\n",
    "             ci='sd', linestyles = \"\", dodge = True);\n",
    "plt.xticks(rotation = 15) \n",
    "plt.title( 'Start Weekday, Averange Duration in Seconds, and Gender Relationship'.title(), fontsize=10, weight='bold')\n",
    "plt.ylim([0, 2500])\n",
    "plt.ylabel('Avg. Duration (sec)');\n"
   ]
  },
  {
   "cell_type": "markdown",
   "metadata": {},
   "source": [
    "The adaptive point plot that we had plotted earlier in the bivariate visualization showed the weekends having a greater average duration time. Introducing the genders in the plot, the females on Sunday have the highest average duration time of 1000 sec. followed by the females on Saturday as compared to the male gender. The males on Tuesday have the lowest duration time followed by the females.  "
   ]
  },
  {
   "cell_type": "code",
   "execution_count": 68,
   "metadata": {},
   "outputs": [
    {
     "data": {
      "text/plain": [
       "Text(0,0.5,'Avg. Duration (Sec)')"
      ]
     },
     "execution_count": 68,
     "metadata": {},
     "output_type": "execute_result"
    },
    {
     "data": {
      "image/png": "[encoded data removed]",
      "text/plain": [
       "<matplotlib.figure.Figure at 0x7f6bf89c5550>"
      ]
     },
     "metadata": {
      "needs_background": "light"
     },
     "output_type": "display_data"
    }
   ],
   "source": [
    "# Now lets see how the user_type correlates with the start_weekday, and the duration_sec using an adaptive barchart.\n",
    "\n",
    "plt.figure(figsize=(12,6))\n",
    "sb.barplot(data= bike_df, x = 'start_weekday', y = 'duration_sec', hue = 'user_type',\n",
    "             ci='sd');\n",
    "plt.xticks(rotation = 15) \n",
    "plt.title( 'An adaptive Start Weekday Against Averange Duration in Seconds With User_type'.title(), fontsize=10, weight='bold')\n",
    "plt.ylim([0, 2500])\n",
    "plt.ylabel('Avg. Duration (sec)'.title(), fontsize=10, weight='bold')"
   ]
  },
  {
   "cell_type": "markdown",
   "metadata": {},
   "source": [
    "The adaptive barchart shows that the day with the highest average duration time was on Sunday with the highest user_type being the customers.Tuesday again had the lowest average time duration amongest the customers. The subscribers also had the highest average duration time on Sunday and Saturday with an almost equal average duration time across all the other days. "
   ]
  },
  {
   "cell_type": "markdown",
   "metadata": {},
   "source": [
    "### Talk about some of the relationships you observed in this part of the investigation. Were there features that strengthened each other in terms of looking at your feature(s) of interest?\n",
    "\n",
    "> I extended my investigation of the duration against the days of the week, ages, and the user_type in this section by looking at the impact of the categorical features. The multivariate exploration here showed that there indeed is a positive effect of the female members gender on the bike share duration, but in the dataset, this is initially hidden by the fact that the highest number of both the subscribers and the customers are from the male gender. Besides the female gender being lesser in numbers, they contributed to a higher duration time than the male gender. The days of the week also signified a larger impact on the weekends (Saturday and Sunday) with a lower duration time in the weekdays, both in the user_type and also among the members gender, hence placing Saturday and Sunday as the best days for profit gains.  \n",
    "\n",
    "### Were there any interesting or surprising interactions between features?\n",
    "\n",
    "> Looking back at the boxplot the female gender played a bigger part in terms of the time duration than the expected male gender as it reflected earlier in the univariate exploration. "
   ]
  },
  {
   "cell_type": "markdown",
   "metadata": {},
   "source": [
    "## Conclusions\n",
    "\n",
    "> People in the Sanfransisco bay area tend to ride the Fordgobikes more during the weekends than the other days of the week. Besides the subscribers and the customers having a higher male count, the female gender tend to have a higher duration time than the male gender. Both the male and the female genders are of an average age of between 20 years to 60 years.      \n"
   ]
  },
  {
   "cell_type": "code",
   "execution_count": null,
   "metadata": {},
   "outputs": [],
   "source": []
  },
  {
   "cell_type": "code",
   "execution_count": null,
   "metadata": {},
   "outputs": [],
   "source": []
  }
 ],
 "metadata": {
  "kernelspec": {
   "display_name": "Python 3",
   "language": "python",
   "name": "python3"
  },
  "language_info": {
   "codemirror_mode": {
    "name": "ipython",
    "version": 3
   },
   "file_extension": ".py",
   "mimetype": "text/x-python",
   "name": "python",
   "nbconvert_exporter": "python",
   "pygments_lexer": "ipython3",
   "version": "3.6.3"
  }
 },
 "nbformat": 4,
 "nbformat_minor": 2
}
