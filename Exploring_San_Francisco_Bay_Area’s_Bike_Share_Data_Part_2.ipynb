{
 "cells": [
  {
   "cell_type": "markdown",
   "metadata": {
    "slideshow": {
     "slide_type": "slide"
    }
   },
   "source": [
    "# Part II - Exploring San Francisco Bay Area’s Bike Share Data\n",
    "## by (George Mbaria)"
   ]
  },
  {
   "cell_type": "markdown",
   "metadata": {
    "slideshow": {
     "slide_type": "slide"
    }
   },
   "source": [
    "\n",
    "\n",
    "## Investigation Overview\n",
    "\n",
    "\n",
    "> Implemented in 2013, Ford GoBike is the first bike-sharing system introduced in the US West Coast. Its 540 stations and 7,000 bikes sprawl across five cities in San Francisco Bay Area. A docked bike can be checked out at any station and must be returned to a station when the trip is complete. As an avid GoBike user and a data fanatic, I am excited to explore, the trip data that has been collected in February 2019.\n",
    "> In this investigation, I wanted to look at how the Ford GoBikes duration time related to the ages, member genders, weekdays , and the user_type in a manner that could be used to predict bigger profit margins, when could be the best days to set discounts, and who the target client in the San Fransisco Bay Area.\n",
    ">The main fetures I focused on was on the duration in seconds, the member genders, the ages that I generated from the members birth year, the start weekday, and the user type.\n",
    "\n"
   ]
  },
  {
   "cell_type": "markdown",
   "metadata": {
    "slideshow": {
     "slide_type": "slide"
    }
   },
   "source": [
    "## Dataset Overview\n",
    "> The dataset consisted of 183,412 rows with 16 columns. There are 9 variables that were numeric in nature and 7 that were categorical. Besides the start_time and end_time being categorized as strings instead the datetime dtypes, all the other categorical variables (start_station_name, end_station_name, member_gender, and bike_share_for_all_trips) were nominal variables."
   ]
  },
  {
   "cell_type": "code",
   "execution_count": 1,
   "metadata": {
    "slideshow": {
     "slide_type": "skip"
    }
   },
   "outputs": [],
   "source": [
    "# import all packages and set plots to be embedded inline\n",
    "import numpy as np\n",
    "import pandas as pd\n",
    "import matplotlib.pyplot as plt\n",
    "import seaborn as sb\n",
    "\n",
    "%matplotlib inline\n",
    "\n",
    "# suppress warnings from final output\n",
    "import warnings\n",
    "warnings.simplefilter(\"ignore\")"
   ]
  },
  {
   "cell_type": "code",
   "execution_count": 2,
   "metadata": {
    "slideshow": {
     "slide_type": "skip"
    }
   },
   "outputs": [],
   "source": [
    "# load in the dataset into a pandas dataframe\n",
    "fordgobike = pd.read_csv('201902-fordgobike-tripdata.csv')"
   ]
  },
  {
   "cell_type": "code",
   "execution_count": 3,
   "metadata": {
    "slideshow": {
     "slide_type": "skip"
    }
   },
   "outputs": [
    {
     "data": {
      "text/html": [
       "<div>\n",
       "<style scoped>\n",
       "    .dataframe tbody tr th:only-of-type {\n",
       "        vertical-align: middle;\n",
       "    }\n",
       "\n",
       "    .dataframe tbody tr th {\n",
       "        vertical-align: top;\n",
       "    }\n",
       "\n",
       "    .dataframe thead th {\n",
       "        text-align: right;\n",
       "    }\n",
       "</style>\n",
       "<table border=\"1\" class=\"dataframe\">\n",
       "  <thead>\n",
       "    <tr style=\"text-align: right;\">\n",
       "      <th></th>\n",
       "      <th>duration_sec</th>\n",
       "      <th>start_time</th>\n",
       "      <th>end_time</th>\n",
       "      <th>start_station_id</th>\n",
       "      <th>start_station_name</th>\n",
       "      <th>start_station_latitude</th>\n",
       "      <th>start_station_longitude</th>\n",
       "      <th>end_station_id</th>\n",
       "      <th>end_station_name</th>\n",
       "      <th>end_station_latitude</th>\n",
       "      <th>end_station_longitude</th>\n",
       "      <th>bike_id</th>\n",
       "      <th>user_type</th>\n",
       "      <th>member_birth_year</th>\n",
       "      <th>member_gender</th>\n",
       "      <th>bike_share_for_all_trip</th>\n",
       "    </tr>\n",
       "  </thead>\n",
       "  <tbody>\n",
       "    <tr>\n",
       "      <th>116871</th>\n",
       "      <td>315</td>\n",
       "      <td>2019-02-12 07:03:41.0400</td>\n",
       "      <td>2019-02-12 07:08:56.2300</td>\n",
       "      <td>50.0</td>\n",
       "      <td>2nd St at Townsend St</td>\n",
       "      <td>37.780526</td>\n",
       "      <td>-122.390288</td>\n",
       "      <td>67.0</td>\n",
       "      <td>San Francisco Caltrain Station 2  (Townsend St...</td>\n",
       "      <td>37.776639</td>\n",
       "      <td>-122.395526</td>\n",
       "      <td>5253</td>\n",
       "      <td>Subscriber</td>\n",
       "      <td>1979.0</td>\n",
       "      <td>Male</td>\n",
       "      <td>No</td>\n",
       "    </tr>\n",
       "    <tr>\n",
       "      <th>69862</th>\n",
       "      <td>244</td>\n",
       "      <td>2019-02-19 18:56:03.9830</td>\n",
       "      <td>2019-02-19 19:00:08.4290</td>\n",
       "      <td>30.0</td>\n",
       "      <td>San Francisco Caltrain (Townsend St at 4th St)</td>\n",
       "      <td>37.776598</td>\n",
       "      <td>-122.395282</td>\n",
       "      <td>90.0</td>\n",
       "      <td>Townsend St at 7th St</td>\n",
       "      <td>37.771058</td>\n",
       "      <td>-122.402717</td>\n",
       "      <td>4761</td>\n",
       "      <td>Subscriber</td>\n",
       "      <td>NaN</td>\n",
       "      <td>NaN</td>\n",
       "      <td>No</td>\n",
       "    </tr>\n",
       "    <tr>\n",
       "      <th>78284</th>\n",
       "      <td>386</td>\n",
       "      <td>2019-02-18 20:09:07.2350</td>\n",
       "      <td>2019-02-18 20:15:33.2860</td>\n",
       "      <td>127.0</td>\n",
       "      <td>Valencia St at 21st St</td>\n",
       "      <td>37.756708</td>\n",
       "      <td>-122.421025</td>\n",
       "      <td>113.0</td>\n",
       "      <td>Franklin Square</td>\n",
       "      <td>37.764555</td>\n",
       "      <td>-122.410345</td>\n",
       "      <td>4996</td>\n",
       "      <td>Subscriber</td>\n",
       "      <td>1988.0</td>\n",
       "      <td>Male</td>\n",
       "      <td>No</td>\n",
       "    </tr>\n",
       "    <tr>\n",
       "      <th>19905</th>\n",
       "      <td>391</td>\n",
       "      <td>2019-02-26 15:07:45.6360</td>\n",
       "      <td>2019-02-26 15:14:17.0550</td>\n",
       "      <td>21.0</td>\n",
       "      <td>Montgomery St BART Station (Market St at 2nd St)</td>\n",
       "      <td>37.789625</td>\n",
       "      <td>-122.400811</td>\n",
       "      <td>50.0</td>\n",
       "      <td>2nd St at Townsend St</td>\n",
       "      <td>37.780526</td>\n",
       "      <td>-122.390288</td>\n",
       "      <td>6434</td>\n",
       "      <td>Subscriber</td>\n",
       "      <td>1986.0</td>\n",
       "      <td>Male</td>\n",
       "      <td>No</td>\n",
       "    </tr>\n",
       "    <tr>\n",
       "      <th>96025</th>\n",
       "      <td>418</td>\n",
       "      <td>2019-02-15 11:46:00.9540</td>\n",
       "      <td>2019-02-15 11:52:59.8790</td>\n",
       "      <td>139.0</td>\n",
       "      <td>Garfield Square (25th St at Harrison St)</td>\n",
       "      <td>37.751017</td>\n",
       "      <td>-122.411901</td>\n",
       "      <td>109.0</td>\n",
       "      <td>17th St at Valencia St</td>\n",
       "      <td>37.763316</td>\n",
       "      <td>-122.421904</td>\n",
       "      <td>6477</td>\n",
       "      <td>Customer</td>\n",
       "      <td>1981.0</td>\n",
       "      <td>Female</td>\n",
       "      <td>No</td>\n",
       "    </tr>\n",
       "  </tbody>\n",
       "</table>\n",
       "</div>"
      ],
      "text/plain": [
       "        duration_sec                start_time                  end_time  \\\n",
       "116871           315  2019-02-12 07:03:41.0400  2019-02-12 07:08:56.2300   \n",
       "69862            244  2019-02-19 18:56:03.9830  2019-02-19 19:00:08.4290   \n",
       "78284            386  2019-02-18 20:09:07.2350  2019-02-18 20:15:33.2860   \n",
       "19905            391  2019-02-26 15:07:45.6360  2019-02-26 15:14:17.0550   \n",
       "96025            418  2019-02-15 11:46:00.9540  2019-02-15 11:52:59.8790   \n",
       "\n",
       "        start_station_id                                start_station_name  \\\n",
       "116871              50.0                             2nd St at Townsend St   \n",
       "69862               30.0    San Francisco Caltrain (Townsend St at 4th St)   \n",
       "78284              127.0                            Valencia St at 21st St   \n",
       "19905               21.0  Montgomery St BART Station (Market St at 2nd St)   \n",
       "96025              139.0          Garfield Square (25th St at Harrison St)   \n",
       "\n",
       "        start_station_latitude  start_station_longitude  end_station_id  \\\n",
       "116871               37.780526              -122.390288            67.0   \n",
       "69862                37.776598              -122.395282            90.0   \n",
       "78284                37.756708              -122.421025           113.0   \n",
       "19905                37.789625              -122.400811            50.0   \n",
       "96025                37.751017              -122.411901           109.0   \n",
       "\n",
       "                                         end_station_name  \\\n",
       "116871  San Francisco Caltrain Station 2  (Townsend St...   \n",
       "69862                               Townsend St at 7th St   \n",
       "78284                                     Franklin Square   \n",
       "19905                               2nd St at Townsend St   \n",
       "96025                              17th St at Valencia St   \n",
       "\n",
       "        end_station_latitude  end_station_longitude  bike_id   user_type  \\\n",
       "116871             37.776639            -122.395526     5253  Subscriber   \n",
       "69862              37.771058            -122.402717     4761  Subscriber   \n",
       "78284              37.764555            -122.410345     4996  Subscriber   \n",
       "19905              37.780526            -122.390288     6434  Subscriber   \n",
       "96025              37.763316            -122.421904     6477    Customer   \n",
       "\n",
       "        member_birth_year member_gender bike_share_for_all_trip  \n",
       "116871             1979.0          Male                      No  \n",
       "69862                 NaN           NaN                      No  \n",
       "78284              1988.0          Male                      No  \n",
       "19905              1986.0          Male                      No  \n",
       "96025              1981.0        Female                      No  "
      ]
     },
     "execution_count": 3,
     "metadata": {},
     "output_type": "execute_result"
    }
   ],
   "source": [
    "# Lets make a copy of the dataframe\n",
    "bike_df = fordgobike.copy()\n",
    "bike_df.sample(5)"
   ]
  },
  {
   "cell_type": "code",
   "execution_count": 4,
   "metadata": {
    "slideshow": {
     "slide_type": "skip"
    }
   },
   "outputs": [
    {
     "data": {
      "text/plain": [
       "(0, 1)"
      ]
     },
     "execution_count": 4,
     "metadata": {},
     "output_type": "execute_result"
    }
   ],
   "source": [
    "#Lets drop the duplicates  \n",
    "bike_df['start_time'] = pd.to_datetime(bike_df['start_time'])\n",
    "bike_df['end_time'] = pd.to_datetime(bike_df['end_time'])\n",
    "stations = bike_df[['start_station_id', 'start_station_name']].drop_duplicates()\n",
    "station_name_count = stations[['start_station_id', 'start_station_name']].groupby('start_station_id').agg('count')\n",
    "\n",
    "station_name_dup = station_name_count[station_name_count['start_station_name'] > 1]\n",
    "station_name_dup.shape"
   ]
  },
  {
   "cell_type": "code",
   "execution_count": 5,
   "metadata": {
    "slideshow": {
     "slide_type": "skip"
    }
   },
   "outputs": [
    {
     "data": {
      "text/plain": [
       "Male      130651\n",
       "Female     40844\n",
       "Other       3652\n",
       "Name: member_gender, dtype: int64"
      ]
     },
     "execution_count": 5,
     "metadata": {},
     "output_type": "execute_result"
    }
   ],
   "source": [
    "# Now onto renaming the collumns \n",
    "bike_df.rename(columns = {'start_time':'start_timestamp', 'end_time':'end_timestamp'}, inplace = True)\n",
    "bike_df['start_date'] = bike_df['start_timestamp'].dt.date\n",
    "bike_df['start_time'] = bike_df['start_timestamp'].dt.time\n",
    "bike_df['start_weekday'] = bike_df['start_timestamp'].dt.weekday\n",
    "bike_df['end_date'] = bike_df['end_timestamp'].dt.date\n",
    "bike_df['end_time'] = bike_df['end_timestamp'].dt.time\n",
    "bike_df['end_weekday'] = bike_df['end_timestamp'].dt.weekday\n",
    "bike_df.member_gender.value_counts()"
   ]
  },
  {
   "cell_type": "code",
   "execution_count": 6,
   "metadata": {
    "slideshow": {
     "slide_type": "skip"
    }
   },
   "outputs": [],
   "source": [
    "# Lets fill the null values in the member_df\n",
    "bike_df['member_gender'] =  bike_df['member_gender'].fillna('Other')\n",
    "\n",
    "# Now onto changing the start_date and end_date dtype to a datetime dtype\n",
    "bike_df['start_date'] = pd.to_datetime(bike_df['start_date'])\n",
    "bike_df['end_date'] = pd.to_datetime(bike_df['end_date'])"
   ]
  },
  {
   "cell_type": "code",
   "execution_count": 7,
   "metadata": {
    "slideshow": {
     "slide_type": "skip"
    }
   },
   "outputs": [],
   "source": [
    "stations_start = bike_df[bike_df['start_station_id'] != -1][['start_station_id', 'start_station_name', \n",
    "                                                             'start_station_latitude', 'start_station_longitude']]\n",
    "stations_end = bike_df[bike_df['end_station_id'] != -1][['end_station_id', 'end_station_name', \n",
    "                                                             'end_station_latitude', 'end_station_longitude']]\n",
    "stations_start.rename(columns = {'start_station_id':'station_id', 'start_station_name':'station_name', \n",
    "                                 'start_station_latitude': 'station_latitude', \n",
    "                                 'start_station_longitude':'station_longitude'}, inplace = True)\n",
    "stations_end.rename(columns = {'end_station_id':'station_id', 'end_station_name':'station_name', 'end_station_latitude': 'station_latitude', \n",
    "                               'end_station_longitude':'station_longitude'}, inplace = True)\n",
    "stations_df = stations_start.append(stations_end)"
   ]
  },
  {
   "cell_type": "code",
   "execution_count": 8,
   "metadata": {
    "slideshow": {
     "slide_type": "skip"
    }
   },
   "outputs": [
    {
     "data": {
      "text/plain": [
       "array(['Thursday', 'Wednesday', 'Tuesday', 'Monday', 'Sunday', 'Saturday',\n",
       "       'Friday'], dtype=object)"
      ]
     },
     "execution_count": 8,
     "metadata": {},
     "output_type": "execute_result"
    }
   ],
   "source": [
    "# Onto changing the start_weekday and end_weekday from values to days of the week.\n",
    "\n",
    "days_of_week = bike_df['start_date'].dt.day_name()\n",
    "\n",
    "bike_df['start_weekday'] = bike_df['start_date'].dt.day_name()\n",
    "bike_df['end_weekday'] = bike_df['end_date'].dt.day_name()\n",
    "bike_df.start_weekday.unique()"
   ]
  },
  {
   "cell_type": "code",
   "execution_count": 9,
   "metadata": {
    "slideshow": {
     "slide_type": "skip"
    }
   },
   "outputs": [],
   "source": [
    "# convert start_weekday and end_weekday into ordered categorical types\n",
    "ordinal_var_dict = {'start_weekday': ['Sunday','Monday','Tuesday','Wednesday','Thursday', 'Friday', 'Saturday'],\n",
    "                    'end_weekday': ['Sunday','Monday','Tuesday','Wednesday','Thursday', 'Friday', 'Saturday']}\n",
    "\n",
    "for var in ordinal_var_dict:\n",
    "    ordered_var = pd.api.types.CategoricalDtype(ordered = True,\n",
    "                                                categories = ordinal_var_dict[var])\n",
    "    bike_df[var] = bike_df[var].astype(ordered_var)"
   ]
  },
  {
   "cell_type": "code",
   "execution_count": 10,
   "metadata": {
    "slideshow": {
     "slide_type": "skip"
    }
   },
   "outputs": [],
   "source": [
    "# Since we have the member_birth_years, let's find their ages for easy visualization.\n",
    "\n",
    "# First let's drop the unique birthvalue -9223372036854775808 which must have been filled in mistakenly.\n",
    "\n",
    "bike_df = bike_df[bike_df.member_birth_year !=-9223372036854775808]\n",
    "\n",
    "col = bike_df['member_birth_year']\n",
    "\n",
    "bike_df['age'] =2022 -  bike_df['member_birth_year']\n",
    "    \n",
    "    "
   ]
  },
  {
   "cell_type": "code",
   "execution_count": 11,
   "metadata": {
    "slideshow": {
     "slide_type": "skip"
    }
   },
   "outputs": [],
   "source": [
    "# Lets code our scatter plot function that we used earlier in the exploration .\n",
    "\n",
    "def myCountPlot(df,xVar):\n",
    "    \n",
    "    #set plot dimensions\n",
    "    plt.figure (figsize = [8,8])\n",
    "    \n",
    "    #Set color\n",
    "    base_color = sb.color_palette()[0]\n",
    "    #plot\n",
    "    sb.countplot(data=df,x=xVar,color=base_color);\n",
    "    \n",
    "    #Add title and format it\n",
    "    plt.title(f'''Distribution of {xVar}'''.title(), fontsize=14, weight='bold')\n",
    "    \n",
    "    #Add x label and format it\n",
    "    plt.xlabel(xVar.title(), fontsize=10, weight='bold')\n",
    "    \n",
    "    #Add y label and format it\n",
    "    plt.ylabel('Frequency'.title(), fontsize=10, weight='bold')\n"
   ]
  },
  {
   "cell_type": "markdown",
   "metadata": {
    "slideshow": {
     "slide_type": "slide"
    }
   },
   "source": [
    "## Distribution Of the Start_Weekday \n",
    "\n",
    "> Thursday signifies a large influx of bikes used. Therefore, it seems a lot of people in the Bay region use the bikes more often on Thursdays than any other day of the week. Saturdays and Sundays having the least bike usage. The weekdays dominated as the most busiest than the weekends This should be so since the main objective of the project was to try and make the bike share utilized more than vehicles commuting from one point to another in the San Francisco Bay Area.\n",
    "\n"
   ]
  },
  {
   "cell_type": "code",
   "execution_count": 12,
   "metadata": {
    "slideshow": {
     "slide_type": "subslide"
    }
   },
   "outputs": [
    {
     "data": {
      "image/png": "[encoded data removed]",
      "text/plain": [
       "<matplotlib.figure.Figure at 0x7fcaba053c88>"
      ]
     },
     "metadata": {
      "needs_background": "light"
     },
     "output_type": "display_data"
    }
   ],
   "source": [
    "#Now lets plot the distribution of the Start_Weekday \n",
    "\n",
    "myCountPlot(bike_df, \"start_weekday\" )\n"
   ]
  },
  {
   "cell_type": "markdown",
   "metadata": {
    "slideshow": {
     "slide_type": "slide"
    }
   },
   "source": [
    "## Distribution Of the Start_Weekday¶\n",
    "> Just like the start_weekday thursday remains the busiest of all the weekdays.The weekdays are more dominant than the weekends. "
   ]
  },
  {
   "cell_type": "code",
   "execution_count": 13,
   "metadata": {
    "slideshow": {
     "slide_type": "subslide"
    }
   },
   "outputs": [
    {
     "data": {
      "image/png": "[encoded data removed]",
      "text/plain": [
       "<matplotlib.figure.Figure at 0x7fcab6e38438>"
      ]
     },
     "metadata": {
      "needs_background": "light"
     },
     "output_type": "display_data"
    }
   ],
   "source": [
    "#Now lets plot the distribution of th end_Weekday\n",
    "\n",
    "myCountPlot(bike_df, \"end_weekday\" )"
   ]
  },
  {
   "cell_type": "markdown",
   "metadata": {
    "collapsed": true,
    "slideshow": {
     "slide_type": "slide"
    }
   },
   "source": [
    "## Age Againist Member Gender\n",
    "\n",
    "\n",
    "> From the boxplot below we can deduct that the genders both male and female together with the others are mostly 20-60 years old. The average minimum age of the member genders in both male and female is 20 years. The maximum ages are ranging at 56-60 years, and the median of the ages are ranging at 30-39 years. There are a number of outliers indicating some bike riders who are over 100 years and they must be quite elderly. The big reason again is due to human error while filling in the ages or the rider decided not to provide his/her year of birth."
   ]
  },
  {
   "cell_type": "code",
   "execution_count": 14,
   "metadata": {
    "slideshow": {
     "slide_type": "subslide"
    }
   },
   "outputs": [
    {
     "data": {
      "image/png": "[encoded data removed]",
      "text/plain": [
       "<matplotlib.figure.Figure at 0x7fcab684ff98>"
      ]
     },
     "metadata": {
      "needs_background": "light"
     },
     "output_type": "display_data"
    }
   ],
   "source": [
    "plt.figure(figsize=(12,10))\n",
    "plt.xlim([0, 120])\n",
    "plt.title( 'Age Againist Member Gender'.title(), fontsize=10, weight='bold')\n",
    "base_color = sb.color_palette()[0]\n",
    "sb.boxplot(data= bike_df, y='member_gender', x='age', color=base_color);"
   ]
  },
  {
   "cell_type": "markdown",
   "metadata": {
    "slideshow": {
     "slide_type": "slide"
    }
   },
   "source": [
    "## Age, Averange Duration in Seconds, and Gender Relationship\n",
    "\n",
    "> The adaptive point plot that we had plotted earlier in the bivariate visualization showed the weekends having a greater average duration time. Introducing the genders in the plot, the females on Sunday have the highest average duration time of 1000 sec. followed by the females on Saturday as compared to the male gender. The males on Tuesday have the lowest duration time followed by the females.  "
   ]
  },
  {
   "cell_type": "code",
   "execution_count": 15,
   "metadata": {
    "slideshow": {
     "slide_type": "subslide"
    }
   },
   "outputs": [
    {
     "data": {
      "image/png": "[encoded data removed]",
      "text/plain": [
       "<matplotlib.figure.Figure at 0x7fcab67d9278>"
      ]
     },
     "metadata": {
      "needs_background": "light"
     },
     "output_type": "display_data"
    }
   ],
   "source": [
    "# Lets plot an adaptive point plot \n",
    "\n",
    "plt.figure(figsize=(12,6))\n",
    "sb.pointplot(data= bike_df, x = 'start_weekday', y = 'duration_sec', hue = 'member_gender',\n",
    "             ci='sd', linestyles = \"\", dodge = True); \n",
    "plt.title( 'Start Weekday, Averange Duration in Seconds, and Gender Relationship'.title(), fontsize=10, weight='bold')\n",
    "plt.ylim([0, 2500])\n",
    "plt.ylabel('Avg. Duration (sec)'.title(), fontsize=10, weight='bold');\n"
   ]
  },
  {
   "cell_type": "markdown",
   "metadata": {
    "slideshow": {
     "slide_type": "slide"
    }
   },
   "source": [
    "## Start Weekday, User Type,  Duration in Seconds, and Gender Relationship\n",
    "\n",
    "> According to the ploted boxplot, the female customers on Sunday had the highest duration with over 2000 seconds. The female customers also had the highest median and the highest 1st and 3rd quartiles. The subscribers seem to be maintaining the same medians across all genders with a slight rise on the male subscribers on the Saturday.The female gender once again has the highest maximum duration in seconds on Sunday and the male gender on Saturday in the subscribers row. "
   ]
  },
  {
   "cell_type": "code",
   "execution_count": 17,
   "metadata": {
    "scrolled": true,
    "slideshow": {
     "slide_type": "subslide"
    }
   },
   "outputs": [
    {
     "data": {
      "image/png": "[encoded data removed]",
      "text/plain": [
       "<matplotlib.figure.Figure at 0x7fcab6918240>"
      ]
     },
     "metadata": {
      "needs_background": "light"
     },
     "output_type": "display_data"
    }
   ],
   "source": [
    "g = sb.FacetGrid(data = bike_df, col = 'start_weekday', row = 'user_type', margin_titles = True)\n",
    "plt.xlim([0, 2000])\n",
    "g.map(sb.boxplot, 'duration_sec', 'member_gender');"
   ]
  },
  {
   "cell_type": "markdown",
   "metadata": {
    "slideshow": {
     "slide_type": "skip"
    }
   },
   "source": [
    "### Generate Slideshow\n",
    "Once you're ready to generate your slideshow, use the `jupyter nbconvert` command to generate the HTML slide show.  "
   ]
  },
  {
   "cell_type": "code",
   "execution_count": null,
   "metadata": {
    "scrolled": false,
    "slideshow": {
     "slide_type": "skip"
    }
   },
   "outputs": [],
   "source": [
    "# Use this command if you are running this file in local\n",
    "!jupyter nbconvert Exploring_San_Francisco_Bay_Area’s_Bike_Share_Data_Part_2.ipynb --to slides --post serve --no-input --no-prompt"
   ]
  },
  {
   "cell_type": "markdown",
   "metadata": {
    "slideshow": {
     "slide_type": "skip"
    }
   },
   "source": [
    "> In the classroom workspace, the generated HTML slideshow will be placed in the home folder. \n",
    "\n",
    "> In local machines, the command above should open a tab in your web browser where you can scroll through your presentation. Sub-slides can be accessed by pressing 'down' when viewing its parent slide. Make sure you remove all of the quote-formatted guide notes like this one before you finish your presentation! At last, you can stop the Kernel. "
   ]
  },
  {
   "cell_type": "code",
   "execution_count": null,
   "metadata": {},
   "outputs": [],
   "source": []
  },
  {
   "cell_type": "code",
   "execution_count": null,
   "metadata": {},
   "outputs": [],
   "source": []
  }
 ],
 "metadata": {
  "celltoolbar": "Slideshow",
  "kernelspec": {
   "display_name": "Python 3",
   "language": "python",
   "name": "python3"
  },
  "language_info": {
   "codemirror_mode": {
    "name": "ipython",
    "version": 3
   },
   "file_extension": ".py",
   "mimetype": "text/x-python",
   "name": "python",
   "nbconvert_exporter": "python",
   "pygments_lexer": "ipython3",
   "version": "3.6.3"
  }
 },
 "nbformat": 4,
 "nbformat_minor": 2
}
